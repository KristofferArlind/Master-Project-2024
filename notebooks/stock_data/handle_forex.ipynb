{
 "cells": [
  {
   "cell_type": "code",
   "execution_count": null,
   "metadata": {},
   "outputs": [],
   "source": [
    "import pandas as pd\n",
    "import numpy as np\n",
    "pd.set_option('display.max_columns', 500)"
   ]
  },
  {
   "cell_type": "code",
   "execution_count": null,
   "metadata": {},
   "outputs": [],
   "source": [
    "#Data from compustat:\n",
    "forex_data = pd.read_csv('../../data/forex/compustat_forex.zip')"
   ]
  },
  {
   "cell_type": "code",
   "execution_count": null,
   "metadata": {},
   "outputs": [],
   "source": [
    "forex_data.rename(columns={'datadate':'date', \"curd\" : \"currency\", \"exratd_toUSD\" : \"to_usd\"}, inplace=True)\n",
    "forex_data = forex_data[[\"date\", \"currency\", \"to_usd\"]]\n",
    "forex_data[\"date\"] = pd.to_datetime(forex_data[\"date\"])"
   ]
  },
  {
   "cell_type": "code",
   "execution_count": null,
   "metadata": {},
   "outputs": [],
   "source": [
    "forex_data.sort_values([\"currency\", \"date\"], inplace=True)\n",
    "forex_data.reset_index(inplace=True, drop=True)"
   ]
  },
  {
   "cell_type": "code",
   "execution_count": null,
   "metadata": {},
   "outputs": [],
   "source": [
    "forex_data[\"to_usd_12m\"] = forex_data.groupby(\"currency\")[[\"date\", \"to_usd\"]].rolling(\"365D\", on=\"date\").mean().reset_index(drop=True)[\"to_usd\"]"
   ]
  },
  {
   "cell_type": "code",
   "execution_count": null,
   "metadata": {},
   "outputs": [],
   "source": [
    "for currency in forex_data[\"currency\"].unique():\n",
    "    min_date = forex_data[forex_data[\"currency\"] == currency][\"date\"].min()\n",
    "    forex_data.loc[(forex_data[\"currency\"] == currency) & (forex_data[\"date\"] < min_date + pd.DateOffset(days=365)), \"to_usd_12m\"] = np.nan"
   ]
  },
  {
   "cell_type": "code",
   "execution_count": null,
   "metadata": {},
   "outputs": [],
   "source": [
    "forex_data[[\"currency\", \"date\", \"to_usd\"]].dropna().to_parquet(\"../../data/forex/forex_data_daily.parquet\", index=False)"
   ]
  },
  {
   "cell_type": "code",
   "execution_count": null,
   "metadata": {},
   "outputs": [],
   "source": [
    "forex_data[[\"currency\", \"date\", \"to_usd_12m\"]].dropna().to_parquet(\"../../data/forex/forex_data_12m.parquet\", index=False)"
   ]
  },
  {
   "cell_type": "code",
   "execution_count": null,
   "metadata": {},
   "outputs": [],
   "source": [
    "forex_data[[\"currency\", \"date\", \"to_usd\", \"to_usd_12m\"]].dropna()"
   ]
  }
 ],
 "metadata": {
  "kernelspec": {
   "display_name": "base",
   "language": "python",
   "name": "python3"
  },
  "language_info": {
   "codemirror_mode": {
    "name": "ipython",
    "version": 3
   },
   "file_extension": ".py",
   "mimetype": "text/x-python",
   "name": "python",
   "nbconvert_exporter": "python",
   "pygments_lexer": "ipython3",
   "version": "3.11.5"
  },
  "orig_nbformat": 4
 },
 "nbformat": 4,
 "nbformat_minor": 2
}
