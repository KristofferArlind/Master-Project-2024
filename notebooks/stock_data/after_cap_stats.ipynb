{
 "cells": [
  {
   "cell_type": "code",
   "execution_count": null,
   "id": "8e12fe99",
   "metadata": {},
   "outputs": [],
   "source": [
    "import pandas as pd\n",
    "import numpy as np\n",
    "import os\n",
    "import matplotlib.pyplot as plt\n",
    "#from scripts import utils\n",
    "from matplotlib.ticker import MultipleLocator"
   ]
  },
  {
   "cell_type": "code",
   "execution_count": null,
   "id": "b2b5b722",
   "metadata": {},
   "outputs": [],
   "source": [
    "os.getcwd()"
   ]
  },
  {
   "cell_type": "code",
   "execution_count": null,
   "id": "57aedaeb",
   "metadata": {},
   "outputs": [],
   "source": [
    "os.chdir(\"../../data/processed\")"
   ]
  },
  {
   "cell_type": "code",
   "execution_count": null,
   "id": "a3933e35",
   "metadata": {},
   "outputs": [],
   "source": [
    "volume_usd_5_min = 1000\n",
    "min_market_cap_percentile_us = 0.6\n",
    "min_market_cap_percentile_eu = 0.65\n",
    "min_market_cap_percentile_jp = 0.65"
   ]
  },
  {
   "cell_type": "code",
   "execution_count": null,
   "id": "e5bbd377",
   "metadata": {},
   "outputs": [],
   "source": [
    "data_mc_stats = pd.DataFrame(data=[], columns=[\"median_mc_us\", \"bot_5_pct_mc_us\", \"median_mc_cap_us\", \"min_mc_cap_us\", \"bot_5_pct_mc_cap_us\", \n",
    "                                               \"median_mc_eu\", \"bot_5_pct_mc_eu\", \"median_mc_cap_eu\", \"min_mc_cap_eu\", \"bot_5_pct_mc_cap_eu\",\n",
    "                                              \"median_mc_jp\", \"bot_5_pct_mc_jp\", \"median_mc_cap_jp\", \"min_mc_cap_jp\", \"bot_5_pct_mc_cap_jp\"])\n",
    "\n",
    "data_n_stats = pd.DataFrame(data=[], columns=[\"num_us\", \"num_cap_100_us\", \"num_cap_50_us\", \"num_cap_20_us\",\n",
    "                                             \"num_eu\", \"num_cap_100_eu\", \"num_cap_50_eu\", \"num_cap_20_eu\",\n",
    "                                             \"num_jp\", \"num_cap_100_jp\", \"num_cap_50_jp\", \"num_cap_20_jp\"])\n"
   ]
  },
  {
   "cell_type": "code",
   "execution_count": null,
   "id": "6baa45b3",
   "metadata": {},
   "outputs": [],
   "source": [
    "#Market cap percentile cutoff\n",
    "for year in range(1967,2024):\n",
    "    us_data = pd.read_parquet(f'csrp/us_data_{year}_annual_fund_processed_n_pct.parquet', engine='pyarrow')\n",
    "    median_mc_us = us_data[\"market_cap_usd\"].median()\n",
    "    bot_5_pct_mc_us = us_data[\"market_cap_usd\"].quantile(0.05).mean()\n",
    "    num_us = us_data[\"gvkey\"].value_counts()[us_data[\"gvkey\"].value_counts() >= 50].shape[0]\n",
    "    \n",
    "    us_data_capped = us_data[us_data[\"volume_usd_5\"] > volume_usd_5_min]\n",
    "    us_data_capped = us_data_capped.groupby(\"date\").apply(lambda x: x[x[\"market_cap_usd\"] > x[\"market_cap_usd\"].quantile(min_market_cap_percentile_us)]).reset_index(drop=True)\n",
    "    median_mc_cap_us = us_data_capped[\"market_cap_usd\"].median()\n",
    "    min_mc_cap_us = us_data_capped.groupby(\"date\")[\"market_cap_usd\"].min().median()\n",
    "    bot_5_pct_mc_cap_us = us_data_capped[\"market_cap_usd\"].quantile(0.05).mean()\n",
    "    num_cap_100_us = us_data_capped[\"gvkey\"].value_counts()[us_data_capped[\"gvkey\"].value_counts() >= 100].shape[0]\n",
    "    num_cap_50_us = us_data_capped[\"gvkey\"].value_counts()[us_data_capped[\"gvkey\"].value_counts() >= 50].shape[0]\n",
    "    num_cap_20_us = us_data_capped[\"gvkey\"].value_counts()[us_data_capped[\"gvkey\"].value_counts() >= 20].shape[0]\n",
    "    \n",
    "    if year >= 1993:\n",
    "\n",
    "        eu_data = pd.read_parquet(f'europe/europe_data_{year}_annual_fund_processed_n_pct.parquet', engine='pyarrow')\n",
    "        median_mc_eu = eu_data[\"market_cap_usd\"].median()\n",
    "        bot_5_pct_mc_eu = eu_data[\"market_cap_usd\"].quantile(0.05).mean()\n",
    "        num_eu = eu_data[\"gvkey\"].value_counts()[eu_data[\"gvkey\"].value_counts() >= 50].shape[0]\n",
    "        \n",
    "        eu_data_capped = eu_data[eu_data[\"volume_usd_5\"] > volume_usd_5_min]\n",
    "        eu_data_capped = eu_data_capped.groupby(\"date\").apply(lambda x: x[x[\"market_cap_usd\"] > x[\"market_cap_usd\"].quantile(min_market_cap_percentile_eu)]).reset_index(drop=True)\n",
    "        median_mc_cap_eu = eu_data_capped[\"market_cap_usd\"].median()\n",
    "        min_mc_cap_eu = eu_data_capped.groupby(\"date\")[\"market_cap_usd\"].min().median()\n",
    "        bot_5_pct_mc_cap_eu = eu_data_capped[\"market_cap_usd\"].quantile(0.05).mean()\n",
    "        num_cap_100_eu = eu_data_capped[\"gvkey\"].value_counts()[eu_data_capped[\"gvkey\"].value_counts() >= 100].shape[0]\n",
    "        num_cap_50_eu = eu_data_capped[\"gvkey\"].value_counts()[eu_data_capped[\"gvkey\"].value_counts() >= 50].shape[0]\n",
    "        num_cap_20_eu = eu_data_capped[\"gvkey\"].value_counts()[eu_data_capped[\"gvkey\"].value_counts() >= 20].shape[0]\n",
    "        \n",
    "        jp_data = pd.read_parquet(f'japan/japan_data_{year}_annual_fund_processed_n_pct.parquet', engine='pyarrow')\n",
    "        median_mc_jp = jp_data[\"market_cap_usd\"].median()\n",
    "        bot_5_pct_mc_jp = jp_data[\"market_cap_usd\"].quantile(0.05).mean()\n",
    "        num_jp = jp_data[\"gvkey\"].value_counts()[jp_data[\"gvkey\"].value_counts() >= 50].shape[0]\n",
    "        \n",
    "        jp_data_capped = jp_data[jp_data[\"volume_usd_5\"] > volume_usd_5_min]\n",
    "        jp_data_capped = jp_data_capped.groupby(\"date\").apply(lambda x: x[x[\"market_cap_usd\"] > x[\"market_cap_usd\"].quantile(min_market_cap_percentile_jp)]).reset_index(drop=True)\n",
    "        median_mc_cap_jp = jp_data_capped[\"market_cap_usd\"].median()\n",
    "        min_mc_cap_jp = jp_data_capped.groupby(\"date\")[\"market_cap_usd\"].min().median()\n",
    "        bot_5_pct_mc_cap_jp = jp_data_capped[\"market_cap_usd\"].quantile(0.05).mean()\n",
    "        num_cap_100_jp = jp_data_capped[\"gvkey\"].value_counts()[jp_data_capped[\"gvkey\"].value_counts() >= 100].shape[0]\n",
    "        num_cap_50_jp = jp_data_capped[\"gvkey\"].value_counts()[jp_data_capped[\"gvkey\"].value_counts() >= 50].shape[0]\n",
    "        num_cap_20_jp = jp_data_capped[\"gvkey\"].value_counts()[jp_data_capped[\"gvkey\"].value_counts() >= 20].shape[0]\n",
    "\n",
    "        data_mc_stats.loc[year] = [median_mc_us, bot_5_pct_mc_us, median_mc_cap_us, min_mc_cap_us, bot_5_pct_mc_cap_us,\n",
    "                              median_mc_eu, bot_5_pct_mc_eu, median_mc_cap_eu, min_mc_cap_eu, bot_5_pct_mc_cap_eu,\n",
    "                                median_mc_jp, bot_5_pct_mc_jp, median_mc_cap_jp, min_mc_cap_jp, bot_5_pct_mc_cap_jp]\n",
    "        data_n_stats.loc[year] = [num_us, num_cap_100_us, num_cap_50_us, num_cap_20_us,\n",
    "                             num_eu, num_cap_100_eu, num_cap_50_eu, num_cap_20_eu,\n",
    "                                 num_jp, num_cap_100_jp, num_cap_50_jp, num_cap_20_jp]\n",
    "    else:\n",
    "        data_mc_stats.loc[year] = [median_mc_us, bot_5_pct_mc_us, median_mc_cap_us, min_mc_cap_us, bot_5_pct_mc_cap_us,\n",
    "                              np.nan, np.nan, np.nan, np.nan, np.nan,\n",
    "                                  np.nan, np.nan, np.nan, np.nan, np.nan]\n",
    "        data_n_stats.loc[year] = [num_us, num_cap_100_us, num_cap_50_us, num_cap_20_us,\n",
    "                             np.nan, np.nan, np.nan, np.nan,\n",
    "                                 np.nan, np.nan, np.nan, np.nan]\n",
    "    \n"
   ]
  },
  {
   "cell_type": "code",
   "execution_count": null,
   "id": "f0dd21b4",
   "metadata": {},
   "outputs": [],
   "source": [
    "data_n_stats[\"num_cap_tot_100\"] = data_n_stats[\"num_cap_100_us\"] + data_n_stats[\"num_cap_100_eu\"] + data_n_stats[\"num_cap_100_jp\"]\n",
    "data_n_stats[\"num_cap_tot_50\"] = data_n_stats[\"num_cap_50_us\"] + data_n_stats[\"num_cap_50_eu\"] + data_n_stats[\"num_cap_50_jp\"]\n",
    "data_n_stats[\"num_cap_tot_20\"] = data_n_stats[\"num_cap_20_us\"] + data_n_stats[\"num_cap_20_eu\"] + data_n_stats[\"num_cap_20_jp\"]\n"
   ]
  },
  {
   "cell_type": "code",
   "execution_count": null,
   "id": "ea0b3921",
   "metadata": {},
   "outputs": [],
   "source": [
    "mc_plot = data_mc_stats[[\"median_mc_cap_us\", \"median_mc_cap_eu\", \"median_mc_cap_jp\", \"min_mc_cap_us\", \"min_mc_cap_eu\", \"min_mc_cap_jp\"]].plot(figsize=(18, 8), logy=False)\n",
    "mc_plot.lines[0].set(label=\"Median, US data\", linewidth=3, color=\"tab:blue\")\n",
    "mc_plot.lines[1].set(label=\"Median, EU data\", linewidth=3, color=\"tab:red\")\n",
    "mc_plot.lines[2].set(label=\"Median, JP data\", linewidth=3, color=\"tab:orange\")\n",
    "mc_plot.lines[3].set(label=\"Median of daily min, US data\", linewidth=3, color=\"tab:blue\", linestyle=\"--\")\n",
    "mc_plot.lines[4].set(label=\"Median of daily min, EU data\", linewidth=3, color=\"tab:red\", linestyle=\"--\")\n",
    "mc_plot.lines[5].set(label=\"Median of daily min, JP data\", linewidth=3, color=\"tab:orange\", linestyle=\"--\")\n",
    "\n",
    "vals = mc_plot.get_yticks()\n",
    "mc_plot.set_yticklabels([(str(int(x / 1000000)) + \" M USD\") for x in vals])\n",
    "\n",
    "mc_plot.xaxis.set_minor_locator(MultipleLocator(1))\n",
    "plt.grid()\n",
    "mc_plot.set_ylabel(\"Market Cap\", fontsize=16)\n",
    "mc_plot.tick_params(axis='both', which='major', labelsize=14)\n",
    "mc_plot.legend(fontsize=16)\n",
    "mc_plot.set_xlim(1967, 2024)\n",
    "#mc_plot.figure.savefig(\"figures/MarketCapData.pdf\", dpi=1000, bbox_inches='tight')\n"
   ]
  },
  {
   "cell_type": "code",
   "execution_count": null,
   "id": "9f7bf559",
   "metadata": {},
   "outputs": [],
   "source": [
    "mc_plot = data_n_stats[[\"num_cap_tot_100\", \n",
    "                        #\"num_cap_tot_50\", \n",
    "                        #\"num_cap_tot_20\", \n",
    "                        \"num_cap_100_us\",\n",
    "                        \"num_cap_100_eu\", \n",
    "                        #\"num_cap_50\", \n",
    "                        #\"num_cap_20_eu\", \n",
    "                        \"num_cap_100_jp\", \n",
    "                        #\"num_cap_50_g\", \n",
    "                        #\"num_cap_20_us\"\n",
    "                       ]].plot(figsize=(18, 8), logy=False)\n",
    "mc_plot.lines[0].set(label=\"US + EU + JP data (min. 100 days)\", linewidth=3, color=\"tab:purple\")\n",
    "#mc_plot.lines[1].set(label=\"US + EU data (min. 20 days)\", linewidth=3)\n",
    "mc_plot.lines[1].set(label=\"US data (min. 100 days)\", linewidth=3, color=\"tab:blue\")\n",
    "mc_plot.lines[2].set(label=\"EU data (min. 100 days)\", linewidth=3, color=\"tab:red\")\n",
    "mc_plot.lines[3].set(label=\"JP data (min. 100 days)\", linewidth=3, color=\"tab:orange\")\n",
    "\n",
    "#mc_plot.lines[3].set(label=\"EU data (min. 20 days)\", linewidth=3)\n",
    "\n",
    "#mc_plot.lines[5].set(label=\"US data (min. 20 days)\", linewidth=3)\n",
    "\n",
    "\n",
    "mc_plot.xaxis.set_minor_locator(MultipleLocator(1))\n",
    "plt.grid()\n",
    "mc_plot.set_ylabel(\"Unique securities\", fontsize=16)\n",
    "mc_plot.tick_params(axis='both', which='major', labelsize=14)\n",
    "mc_plot.legend(fontsize=16)\n",
    "#mc_plot.figure.savefig(\"figures/MarketCapDataN.pdf\", dpi=1000, bbox_inches='tight')\n"
   ]
  }
 ],
 "metadata": {
  "kernelspec": {
   "display_name": "Python 3 (ipykernel)",
   "language": "python",
   "name": "python3"
  },
  "language_info": {
   "codemirror_mode": {
    "name": "ipython",
    "version": 3
   },
   "file_extension": ".py",
   "mimetype": "text/x-python",
   "name": "python",
   "nbconvert_exporter": "python",
   "pygments_lexer": "ipython3",
   "version": "3.9.13"
  }
 },
 "nbformat": 4,
 "nbformat_minor": 5
}
