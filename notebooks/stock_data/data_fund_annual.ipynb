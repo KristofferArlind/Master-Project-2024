{
 "cells": [
  {
   "cell_type": "code",
   "execution_count": null,
   "id": "085c50a5",
   "metadata": {},
   "outputs": [],
   "source": [
    "import pandas as pd\n",
    "import os\n",
    "import numpy as np\n",
    "pd.set_option(\"display.max_rows\", None)\n",
    "pd.set_option(\"display.max_columns\", None)"
   ]
  },
  {
   "cell_type": "code",
   "execution_count": null,
   "id": "5329b624",
   "metadata": {},
   "outputs": [],
   "source": [
    "os.getcwd()"
   ]
  },
  {
   "cell_type": "code",
   "execution_count": null,
   "id": "1f30acc0",
   "metadata": {},
   "outputs": [],
   "source": [
    "# Raw data from Compustat\n",
    "fund_data = pd.read_csv(\"../data/unprocessed/global_fundamentals_all_annual.zip\", engine=\"pyarrow\")"
   ]
  },
  {
   "cell_type": "code",
   "execution_count": null,
   "id": "44c2da73",
   "metadata": {},
   "outputs": [],
   "source": [
    "fund_data[\"datadate\"] = pd.to_datetime(fund_data[\"datadate\"])\n",
    "fund_data.sort_values([\"datadate\", \"gvkey\"], inplace=True)"
   ]
  },
  {
   "cell_type": "code",
   "execution_count": null,
   "id": "f955f0fc",
   "metadata": {},
   "outputs": [],
   "source": [
    "fund_data = fund_data[fund_data[\"curcd\"].notna()]"
   ]
  },
  {
   "cell_type": "code",
   "execution_count": null,
   "id": "f312679f",
   "metadata": {},
   "outputs": [],
   "source": [
    "fund_data[[\"gvkey\", \"datadate\"]].value_counts().head()"
   ]
  },
  {
   "cell_type": "code",
   "execution_count": null,
   "id": "d2350618",
   "metadata": {},
   "outputs": [],
   "source": [
    "fundamentals_feature_dict = {\n",
    "    'gvkey': 'gvkey',\n",
    "    'conm' : 'company_name',\n",
    "    'datadate': 'date',\n",
    "    'fyr': 'fiscal_year_end_month',\n",
    "    'acctstd': 'accounting_standard_code',\n",
    "    'bspr': 'best_practice_code',\n",
    "    'compst': 'company_status_code',\n",
    "    'curcd': 'currency_code',\n",
    "    'fyear': 'fiscal_year',\n",
    "    'scf': 'source_code',\n",
    "    'src': 'source_code_change',\n",
    "    'stalt': 'statement_type_code',\n",
    "    'upd': 'update_code',\n",
    "    'datadate': 'date',\n",
    "    'fdate': 'fiscal_date',\n",
    "    \"cshpria\" : \"shares_eps\",\n",
    "    'pdate': 'period_date'}\n",
    "\n",
    "\n",
    "global_fundamentals_data = fund_data.copy()\n",
    "\n",
    "global_fundamentals_features = pd.read_csv('../scripts/data/global_fundamental_features_annual.csv', delimiter=';')\n",
    "global_fundamentals_features = global_fundamentals_features[global_fundamentals_features['wrds_feature'].notnull()]\n",
    "\n",
    "all_global_fundamental_features = list(fundamentals_feature_dict.keys()) + (global_fundamentals_features['wrds_name'].str.lower().tolist())\n",
    "all_global_fundamental_feature_new_names = list(fundamentals_feature_dict.values()) + (global_fundamentals_features['wrds_feature'].tolist())\n",
    "global_fundamentals_data = global_fundamentals_data[all_global_fundamental_features]\n",
    "global_fundamentals_data.columns = all_global_fundamental_feature_new_names\n"
   ]
  },
  {
   "cell_type": "code",
   "execution_count": null,
   "id": "8bfac315",
   "metadata": {},
   "outputs": [],
   "source": [
    "global_fundamentals_data.columns"
   ]
  },
  {
   "cell_type": "code",
   "execution_count": null,
   "id": "197e4930",
   "metadata": {},
   "outputs": [],
   "source": [
    "global_fundamentals_data['net_income'] = global_fundamentals_data['income_bex'] + global_fundamentals_data['extra']\n",
    "global_fundamentals_data['net_income'] = global_fundamentals_data['net_income'].fillna(global_fundamentals_data['income_bex'])"
   ]
  },
  {
   "cell_type": "code",
   "execution_count": null,
   "id": "b489eb07",
   "metadata": {},
   "outputs": [],
   "source": [
    "global_fundamentals_data = global_fundamentals_data.sort_values(\"date\")"
   ]
  },
  {
   "cell_type": "code",
   "execution_count": null,
   "id": "392e54c3",
   "metadata": {},
   "outputs": [],
   "source": [
    "forex_data_12m = pd.read_parquet(\"../data/forex/forex_data_12m.parquet\")\n",
    "forex_data_12m[\"date\"] = pd.to_datetime(forex_data_12m[\"date\"])\n",
    "forex_data_12m[\"currency\"] = forex_data_12m[\"currency\"].astype(\"category\")\n",
    "forex_data_12m = forex_data_12m.sort_values(\"date\")\n"
   ]
  },
  {
   "cell_type": "code",
   "execution_count": null,
   "id": "a5af1787",
   "metadata": {},
   "outputs": [],
   "source": [
    "forex_12m_dict = forex_data_12m.set_index(['date', 'currency'])['to_usd'].to_dict()"
   ]
  },
  {
   "cell_type": "code",
   "execution_count": null,
   "id": "f7657b6a",
   "metadata": {},
   "outputs": [],
   "source": [
    "forex_data = pd.read_parquet(\"../data/forex/forex_data_daily.parquet\")\n",
    "forex_data[\"date\"] = pd.to_datetime(forex_data[\"date\"])\n",
    "forex_data[\"currency\"] = forex_data[\"currency\"].astype(\"category\")\n",
    "forex_data = forex_data.sort_values(\"date\")\n"
   ]
  },
  {
   "cell_type": "code",
   "execution_count": null,
   "id": "552b4213",
   "metadata": {},
   "outputs": [],
   "source": [
    "forex_dict = forex_data.set_index(['date', 'currency'])['to_usd'].to_dict()"
   ]
  },
  {
   "cell_type": "code",
   "execution_count": null,
   "id": "fc371b45",
   "metadata": {},
   "outputs": [],
   "source": [
    "def convert_to_usd(group):\n",
    "    date, currency = group.name\n",
    "    if (date, currency) not in forex_dict:\n",
    "        print(\"No currency rate on this date\")\n",
    "        print(date, currency)\n",
    "        tries = 0\n",
    "        while (date, currency) not in forex_dict:\n",
    "            date = date - pd.Timedelta(1, \"d\")\n",
    "            tries += 1\n",
    "            if tries > 10:\n",
    "                print(group.shape, \"affected\")\n",
    "                group.loc[:] = np.nan\n",
    "                return group\n",
    "        print(date, \"worked\")\n",
    "    to_usd_rate = forex_dict[(date, currency)]\n",
    "    return group * to_usd_rate"
   ]
  },
  {
   "cell_type": "code",
   "execution_count": null,
   "id": "d224a8b8",
   "metadata": {},
   "outputs": [],
   "source": [
    "def convert_to_usd_12m(group):\n",
    "    date, currency = group.name\n",
    "    if (date, currency) not in forex_12m_dict:\n",
    "        print(\"No currency rate on this date\")\n",
    "        print(date, currency)\n",
    "        tries = 0\n",
    "        while (date, currency) not in forex_12m_dict:\n",
    "            date = date - pd.Timedelta(1, \"d\")\n",
    "            tries += 1\n",
    "            if tries > 10:\n",
    "                print(group.shape, \"affected\")\n",
    "                group.loc[:] = np.nan\n",
    "                return group\n",
    "        print(date, \"worked\")\n",
    "    to_usd_rate = forex_12m_dict[(date, currency)]\n",
    "    return group * to_usd_rate"
   ]
  },
  {
   "cell_type": "code",
   "execution_count": null,
   "id": "b8ae9254",
   "metadata": {},
   "outputs": [],
   "source": [
    "global_fundamentals_data.sort_values([\"date\", \"gvkey\"], inplace=True)\n",
    "global_fundamentals_data.reset_index(inplace=True)"
   ]
  },
  {
   "cell_type": "code",
   "execution_count": null,
   "id": "f75ab842",
   "metadata": {},
   "outputs": [],
   "source": [
    "#CURRENCY. TO USD\n",
    "for feature in global_fundamentals_features[\"wrds_feature\"]:\n",
    "    print(feature)\n",
    "    print(global_fundamentals_features[global_fundamentals_features[\"wrds_feature\"] == feature][\"TTM\"].item())\n",
    "    if global_fundamentals_features[global_fundamentals_features[\"wrds_feature\"] == feature][\"TTM\"].item() == \"sum\":\n",
    "        result = global_fundamentals_data.groupby([\"date\", \"currency_code\"])[feature].transform(convert_to_usd_12m)\n",
    "        global_fundamentals_data[feature] = global_fundamentals_data.groupby([\"date\", \"currency_code\"])[feature].transform(convert_to_usd_12m)\n",
    "    elif global_fundamentals_features[global_fundamentals_features[\"wrds_feature\"] == feature][\"TTM\"].item() == \"no\":\n",
    "        global_fundamentals_data[feature] = global_fundamentals_data.groupby([\"date\", \"currency_code\"])[feature].transform(convert_to_usd)"
   ]
  },
  {
   "cell_type": "code",
   "execution_count": null,
   "id": "df629f8b",
   "metadata": {},
   "outputs": [],
   "source": [
    "fundamentals_data = global_fundamentals_data.copy()\n",
    "\n",
    "fundamentals_data['net_debt'] = fundamentals_data['short_debt'] + fundamentals_data['long_debt'] - fundamentals_data['cash_and_eq']\n",
    "fundamentals_data['current_ratio'] = fundamentals_data['current_assets'] / fundamentals_data['current_liabilites']\n",
    "fundamentals_data['quick_ratio'] = (fundamentals_data['current_assets'] - fundamentals_data['inventories']) / fundamentals_data['current_liabilites']\n",
    "fundamentals_data['cash_ratio'] = fundamentals_data['cash_and_eq'] / fundamentals_data['current_liabilites']\n",
    "fundamentals_data['total_assets_to_liabilites'] = fundamentals_data['total_assets'] / fundamentals_data['total_liabilites']\n",
    "fundamentals_data['equity_to_debt_ratio'] = fundamentals_data['stockholders_equity'] / fundamentals_data['total_liabilites']\n",
    "fundamentals_data['interest_coverage_ratio'] = fundamentals_data['op_income_ad'] / fundamentals_data['interest_expense']\n",
    "fundamentals_data['debt_service_coverage_ratio'] = fundamentals_data['op_income_ad'] / fundamentals_data['short_debt']\n",
    "fundamentals_data['asset_turnover_ratio'] = fundamentals_data['net_sales'] / fundamentals_data['total_assets']\n",
    "fundamentals_data['inventory_turnover_ratio'] = fundamentals_data['cost_goods_sold'] / fundamentals_data['inventories']\n",
    "fundamentals_data['operating_margin_ratio'] = fundamentals_data['op_income_ad'] / fundamentals_data['net_sales']\n",
    "fundamentals_data['return_on_assets'] = fundamentals_data['net_income'] / fundamentals_data['total_assets']\n",
    "fundamentals_data['return_on_equity'] = fundamentals_data['net_income'] / fundamentals_data['stockholders_equity']\n",
    "fundamentals_data['EBITDA'] = fundamentals_data['ebitda']\n",
    "fundamentals_data['EBITDA_to_net_debt'] = fundamentals_data['EBITDA'] / fundamentals_data['net_debt']\n",
    "fundamentals_data['EBITDA_to_interest_expense'] = fundamentals_data['EBITDA'] / fundamentals_data['interest_expense']\n",
    "fundamentals_data['total_assets_to_debt'] = fundamentals_data['total_assets'] / (fundamentals_data['short_debt'] + fundamentals_data['long_debt'])\n",
    "fundamentals_data['gross_margin'] = (fundamentals_data['net_sales'] - fundamentals_data['cost_goods_sold'])\n",
    "\n",
    "global_fundamentals_data = fundamentals_data"
   ]
  },
  {
   "cell_type": "code",
   "execution_count": null,
   "id": "6b75667a",
   "metadata": {},
   "outputs": [],
   "source": [
    "global_fundamentals_data.drop(columns=[\"index\"], inplace=True)"
   ]
  },
  {
   "cell_type": "code",
   "execution_count": null,
   "id": "efcab792",
   "metadata": {},
   "outputs": [],
   "source": [
    "global_fundamentals_data.to_parquet(\"../data/processed/global_fundamentals_annual_processed.parquet\", index=False)"
   ]
  },
  {
   "cell_type": "markdown",
   "id": "e436ce84",
   "metadata": {},
   "source": [
    "# CSRP (US)"
   ]
  },
  {
   "cell_type": "markdown",
   "id": "30800783",
   "metadata": {},
   "source": [
    "#### No currency change needed"
   ]
  },
  {
   "cell_type": "code",
   "execution_count": null,
   "id": "dba27ee0",
   "metadata": {},
   "outputs": [],
   "source": [
    "fund_data = pd.read_csv(\"../data/unprocessed/csrp/csrp_fundamentals_annual.zip\", engine=\"pyarrow\")\n",
    "fund_data[\"datadate\"] = pd.to_datetime(fund_data[\"datadate\"])\n",
    "fund_data.columns = [x.lower() for x in fund_data.columns]"
   ]
  },
  {
   "cell_type": "code",
   "execution_count": null,
   "id": "e2d3dd72",
   "metadata": {},
   "outputs": [],
   "source": [
    "fund_data = fund_data[fund_data[\"linkprim\"].isin([\"P\", \"C\"])]"
   ]
  },
  {
   "cell_type": "code",
   "execution_count": null,
   "id": "e04a7a92",
   "metadata": {},
   "outputs": [],
   "source": [
    "fundamentals_feature_dict = {\n",
    "    'gvkey': 'gvkey',\n",
    "    'lpermco' : 'permco',\n",
    "    'lpermno' : 'permno',\n",
    "    'liid' : 'liid',\n",
    "    'linkdt' : 'linkdt',\n",
    "    'linkenddt' : 'linkenddt',\n",
    "    'linkprim' : 'primary_link',\n",
    "    'linktype' : 'link_type',\n",
    "    'conm' : 'company_name',\n",
    "    'datadate': 'date',\n",
    "    'fyr': 'fiscal_year_end_month',\n",
    "    'acctstd': 'accounting_standard_code',\n",
    "    'bspr': 'best_practice_code',\n",
    "    'compst': 'company_status_code',\n",
    "    'curcd': 'currency_code',\n",
    "    'fyear': 'fiscal_year',\n",
    "    'scf': 'source_code',\n",
    "    'src': 'source_code_change',\n",
    "    'stalt': 'statement_type_code',\n",
    "    'upd': 'update_code',\n",
    "    'datadate': 'date',\n",
    "    'fdate': 'fiscal_date',\n",
    "    'pdate': 'period_date'}\n",
    "\n",
    "\n",
    "us_fundamentals_features = pd.read_csv('../scripts/data/us_fundamental_features_csrp_annual.csv', delimiter=';')\n",
    "us_fundamentals_features = us_fundamentals_features[us_fundamentals_features['wrds_feature'].notnull()]\n",
    "\n",
    "all_us_fundamental_features = list(fundamentals_feature_dict.keys()) + (us_fundamentals_features['wrds_name'].str.lower().tolist())\n",
    "all_us_fundamental_feature_new_names = list(fundamentals_feature_dict.values()) + (us_fundamentals_features['wrds_feature'].tolist())\n",
    "fund_data = fund_data[all_us_fundamental_features]\n",
    "fund_data.columns = all_us_fundamental_feature_new_names"
   ]
  },
  {
   "cell_type": "code",
   "execution_count": null,
   "id": "a5f9729c",
   "metadata": {},
   "outputs": [],
   "source": [
    "fund_data.sort_values([\"date\", \"gvkey\"], inplace=True)"
   ]
  },
  {
   "cell_type": "code",
   "execution_count": null,
   "id": "62f4e876",
   "metadata": {},
   "outputs": [],
   "source": [
    "fund_data['net_income'] = fund_data['net_income'].fillna(fund_data['income_bex'])"
   ]
  },
  {
   "cell_type": "code",
   "execution_count": null,
   "id": "ecef8a6a",
   "metadata": {},
   "outputs": [],
   "source": [
    "fundamentals_data = fund_data.copy()\n",
    "\n",
    "fundamentals_data['net_debt'] = fundamentals_data['short_debt'] + fundamentals_data['long_debt'] - fundamentals_data['cash_and_eq']\n",
    "fundamentals_data['current_ratio'] = fundamentals_data['current_assets'] / fundamentals_data['current_liabilites']\n",
    "fundamentals_data['quick_ratio'] = (fundamentals_data['current_assets'] - fundamentals_data['inventories']) / fundamentals_data['current_liabilites']\n",
    "fundamentals_data['cash_ratio'] = fundamentals_data['cash_and_eq'] / fundamentals_data['current_liabilites']\n",
    "fundamentals_data['total_assets_to_liabilites'] = fundamentals_data['total_assets'] / fundamentals_data['total_liabilites']\n",
    "fundamentals_data['equity_to_debt_ratio'] = fundamentals_data['stockholders_equity'] / fundamentals_data['total_liabilites']\n",
    "fundamentals_data['interest_coverage_ratio'] = fundamentals_data['op_income_ad'] / fundamentals_data['interest_expense']\n",
    "fundamentals_data['debt_service_coverage_ratio'] = fundamentals_data['op_income_ad'] / fundamentals_data['short_debt']\n",
    "fundamentals_data['asset_turnover_ratio'] = fundamentals_data['net_sales'] / fundamentals_data['total_assets']\n",
    "fundamentals_data['inventory_turnover_ratio'] = fundamentals_data['cost_goods_sold'] / fundamentals_data['inventories']\n",
    "fundamentals_data['operating_margin_ratio'] = fundamentals_data['op_income_ad'] / fundamentals_data['net_sales']\n",
    "fundamentals_data['return_on_assets'] = fundamentals_data['net_income'] / fundamentals_data['total_assets']\n",
    "fundamentals_data['return_on_equity'] = fundamentals_data['net_income'] / fundamentals_data['stockholders_equity']\n",
    "fundamentals_data['EBITDA'] = fundamentals_data['ebitda']\n",
    "fundamentals_data['EBITDA_to_net_debt'] = fundamentals_data['EBITDA'] / fundamentals_data['net_debt']\n",
    "fundamentals_data['EBITDA_to_interest_expense'] = fundamentals_data['EBITDA'] / fundamentals_data['interest_expense']\n",
    "fundamentals_data['total_assets_to_debt'] = fundamentals_data['total_assets'] / (fundamentals_data['short_debt'] + fundamentals_data['long_debt'])\n",
    "fundamentals_data['gross_margin'] = (fundamentals_data['net_sales'] - fundamentals_data['cost_goods_sold'])\n",
    "\n",
    "fund_data = fundamentals_data"
   ]
  },
  {
   "cell_type": "code",
   "execution_count": null,
   "id": "b7c7227e",
   "metadata": {},
   "outputs": [],
   "source": [
    "fund_data.to_parquet('../data/processed/csrp/csrp_compustat_fundamentals_processed_annual.parquet', index=False)"
   ]
  }
 ],
 "metadata": {
  "kernelspec": {
   "display_name": "Python 3 (ipykernel)",
   "language": "python",
   "name": "python3"
  },
  "language_info": {
   "codemirror_mode": {
    "name": "ipython",
    "version": 3
   },
   "file_extension": ".py",
   "mimetype": "text/x-python",
   "name": "python",
   "nbconvert_exporter": "python",
   "pygments_lexer": "ipython3",
   "version": "3.9.13"
  }
 },
 "nbformat": 4,
 "nbformat_minor": 5
}
