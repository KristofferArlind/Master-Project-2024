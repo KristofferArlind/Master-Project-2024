{
 "cells": [
  {
   "cell_type": "code",
   "execution_count": null,
   "metadata": {},
   "outputs": [],
   "source": [
    "import pandas as pd\n",
    "import matplotlib.pyplot as plt\n",
    "import numpy as np\n",
    "pd.set_option('display.max_columns', 1000)\n",
    "pd.set_option('display.max_rows', 1000)"
   ]
  },
  {
   "cell_type": "code",
   "execution_count": null,
   "metadata": {},
   "outputs": [],
   "source": [
    "indicators = pd.read_parquet(\"../../data/indicators/US/all_indicators_raw_outer.parquet\", engine=\"pyarrow\")\n",
    "indicators[\"date\"] = pd.to_datetime(indicators[\"date\"])\n",
    "indicators.reset_index(drop=True, inplace=True)"
   ]
  },
  {
   "cell_type": "code",
   "execution_count": null,
   "metadata": {},
   "outputs": [],
   "source": [
    "nber_recessions = pd.read_parquet(\"../../data/indicators/US/nber_recession.parquet\")\n",
    "nber_recessions[\"date\"] = pd.to_datetime(nber_recessions[\"date\"])\n",
    "nber_recessions = nber_recessions[nber_recessions[\"date\"] >= \"1962-01-01\"]"
   ]
  },
  {
   "cell_type": "code",
   "execution_count": null,
   "metadata": {},
   "outputs": [],
   "source": [
    "us_top_500 = pd.read_parquet(\"../../data/indicators/US/us_top_500.parquet\", engine=\"pyarrow\")\n",
    "us_top_500[\"date\"] = pd.to_datetime(us_top_500[\"date\"])\n",
    "data = pd.merge(indicators, us_top_500, on=[\"date\"], how=\"outer\")"
   ]
  },
  {
   "cell_type": "code",
   "execution_count": null,
   "metadata": {},
   "outputs": [],
   "source": [
    "data.set_index(\"date\", inplace=True)\n",
    "np.random.seed(49)"
   ]
  },
  {
   "cell_type": "markdown",
   "metadata": {},
   "source": [
    "# Change in Market Cap"
   ]
  },
  {
   "cell_type": "code",
   "execution_count": null,
   "metadata": {},
   "outputs": [],
   "source": [
    "data[\"change_1m\"] = data[\"market_cap_usd\"].dropna().resample(\"ME\").last().shift(1, freq=\"D\").pct_change(1)\n",
    "data[\"change_2m\"] = data[\"market_cap_usd\"].dropna().resample(\"ME\").last().shift(1, freq=\"D\").pct_change(2)\n",
    "data[\"change_3m\"] = data[\"market_cap_usd\"].dropna().resample(\"ME\").last().shift(1, freq=\"D\").pct_change(3)\n",
    "data[\"change_4m\"] = data[\"market_cap_usd\"].dropna().resample(\"ME\").last().shift(1, freq=\"D\").pct_change(4)\n",
    "data[\"change_6m\"] = data[\"market_cap_usd\"].dropna().resample(\"ME\").last().shift(1, freq=\"D\").pct_change(6)\n",
    "data[\"change_12m\"] = data[\"market_cap_usd\"].dropna().resample(\"ME\").last().shift(1, freq=\"D\").pct_change(12)\n",
    "data[\"change_24m\"] = data[\"market_cap_usd\"].dropna().resample(\"ME\").last().shift(1, freq=\"D\").pct_change(24)\n",
    "data[\"change_36m\"] = data[\"market_cap_usd\"].dropna().resample(\"ME\").last().shift(1, freq=\"D\").pct_change(36)\n",
    "data[\"change_48m\"] = data[\"market_cap_usd\"].dropna().resample(\"ME\").last().shift(1, freq=\"D\").pct_change(48)\n",
    "data[\"change_60m\"] = data[\"market_cap_usd\"].dropna().resample(\"ME\").last().shift(1, freq=\"D\").pct_change(60)\n",
    "data[\"change_72m\"] = data[\"market_cap_usd\"].dropna().resample(\"ME\").last().shift(1, freq=\"D\").pct_change(72)"
   ]
  },
  {
   "cell_type": "code",
   "execution_count": null,
   "metadata": {},
   "outputs": [],
   "source": [
    "negative_filter_lt = pd.read_csv(\"../../time_periods/model_train_ready/return_filter_bear_m_long_3_6_12.csv\")\n",
    "negative_filter_lt[\"date\"] = pd.to_datetime(negative_filter_lt[\"date\"])"
   ]
  },
  {
   "cell_type": "code",
   "execution_count": null,
   "metadata": {},
   "outputs": [],
   "source": [
    "negative_filter_st = pd.read_csv(\"../../time_periods/model_train_ready/return_filter_bear_m_short_2_3.csv\")\n",
    "negative_filter_st[\"date\"] = pd.to_datetime(negative_filter_st[\"date\"])"
   ]
  },
  {
   "cell_type": "code",
   "execution_count": null,
   "metadata": {},
   "outputs": [],
   "source": [
    "positive_filter_lt = pd.read_csv(\"../../time_periods/model_train_ready/return_filter_bull_m_long_3_6_12.csv\")\n",
    "positive_filter_lt[\"date\"] = pd.to_datetime(positive_filter_lt[\"date\"])"
   ]
  },
  {
   "cell_type": "code",
   "execution_count": null,
   "metadata": {},
   "outputs": [],
   "source": [
    "positive_filter_st = pd.read_csv(\"../../time_periods/model_train_ready/return_filter_bull_m_short_2_3.csv\")\n",
    "positive_filter_st[\"date\"] = pd.to_datetime(positive_filter_st[\"date\"])"
   ]
  },
  {
   "cell_type": "code",
   "execution_count": null,
   "metadata": {},
   "outputs": [],
   "source": [
    "nber_rec_dates = pd.read_csv(\"../../time_periods/model_train_ready/nber_recession_dates.csv\")\n",
    "nber_rec_dates[\"date\"] = pd.to_datetime(nber_rec_dates[\"date\"])"
   ]
  },
  {
   "cell_type": "code",
   "execution_count": null,
   "metadata": {},
   "outputs": [],
   "source": [
    "fig, ax = plt.subplots(1, figsize=(12, 4), sharex=False)\n",
    "\n",
    "\n",
    "data_copy = data.copy()\n",
    "\n",
    "min_date = pd.Timestamp(\"1962-01-01\")\n",
    "\n",
    "resample_freq = \"MS\"\n",
    "\n",
    "\n",
    "data_display = data_copy[data_copy.index > min_date]\n",
    "\n",
    "market_cap = data_display[\"market_cap_usd\"].dropna().resample(resample_freq).first()\n",
    "\n",
    "\n",
    "ax.plot(market_cap, alpha=0.5, color=\"tab:orange\", linewidth=2)\n",
    "ax.set_yscale('log')\n",
    "\n",
    "\n",
    "current_i = 0\n",
    "for i in range(len(nber_rec_dates['date'])-1):\n",
    "    if nber_rec_dates['date'].iloc[i+1] - pd.DateOffset(days=1) == nber_rec_dates['date'].iloc[i]:\n",
    "        continue\n",
    "    ax.axvspan(nber_rec_dates['date'].iloc[current_i], nber_rec_dates['date'].iloc[i] + pd.DateOffset(days=1), facecolor='grey', alpha=0.5)\n",
    "    current_i = i + 1\n",
    "ax.axvspan(nber_rec_dates['date'].iloc[current_i], nber_rec_dates['date'].iloc[i] + pd.DateOffset(days=1), facecolor='grey', alpha=0.5)\n",
    "\n",
    "\n",
    "current_i = 0\n",
    "for i in range(len(negative_filter_lt['date'])-1):\n",
    "    if negative_filter_lt['date'].iloc[i+1] - pd.DateOffset(days=1) == negative_filter_lt['date'].iloc[i]:\n",
    "        continue\n",
    "    ax.axvspan(negative_filter_lt['date'].iloc[current_i], negative_filter_lt['date'].iloc[i] + pd.DateOffset(days=1), facecolor='red', alpha=0.3, ymin=0.5, ymax=0.9)\n",
    "    current_i = i + 1\n",
    "ax.axvspan(negative_filter_lt['date'].iloc[current_i], negative_filter_lt['date'].iloc[i] + pd.DateOffset(days=1), facecolor='red', alpha=0.3, ymin=0.5, ymax=0.9)\n",
    "\n",
    "    \n",
    "current_i = 0\n",
    "for i in range(len(negative_filter_st['date'])-1):\n",
    "    if negative_filter_st['date'].iloc[i+1] - pd.DateOffset(days=1) == negative_filter_st['date'].iloc[i]:\n",
    "        continue\n",
    "    ax.axvspan(negative_filter_st['date'].iloc[current_i], negative_filter_st['date'].iloc[i] + pd.DateOffset(days=1), facecolor='red', alpha=0.3, ymin=0.1, ymax=0.5)\n",
    "    current_i = i + 1\n",
    "ax.axvspan(negative_filter_st['date'].iloc[current_i], negative_filter_st['date'].iloc[i] + pd.DateOffset(days=1), facecolor='red', alpha=0.3, ymin=0.1, ymax=0.5)\n",
    "\n",
    "\n",
    "fill_height = 4.5*10**13\n",
    "\n",
    "\n",
    "\n",
    "ax.tick_params(axis='both', which='major', labelsize=14)\n",
    "\n",
    "\n",
    "ax.axes.get_yaxis().set_ticks([])\n",
    "\n",
    "\n",
    "ax.axes.get_xaxis().set_label_text('')\n",
    "\n",
    "plt.xlim(min_date, pd.Timestamp(\"2023-12-31\"))\n",
    "\n",
    "plt.tight_layout()"
   ]
  },
  {
   "cell_type": "code",
   "execution_count": null,
   "metadata": {},
   "outputs": [],
   "source": [
    "fig.savefig(\"../../figures/return-filter-positive-lt-and-st.pdf\", dpi=3000)"
   ]
  },
  {
   "cell_type": "code",
   "execution_count": null,
   "metadata": {},
   "outputs": [],
   "source": [
    "fig.savefig(\"../../figures/return-filter-negative-lt-and-st.pdf\", dpi=3000)"
   ]
  },
  {
   "cell_type": "markdown",
   "metadata": {},
   "source": [
    "### Negative filter (LT)"
   ]
  },
  {
   "cell_type": "code",
   "execution_count": null,
   "metadata": {},
   "outputs": [],
   "source": [
    "bear_filtered = data_display.resample(\"MS\").first().copy()\n",
    "bear_filtered[\"class\"] = 0\n",
    "bear_filtered.loc[bear_filtered.dropna(subset=[\"change_3m\"])[(bear_filtered[\"change_3m\"].dropna() < 0).resample(\"D\").ffill()].index, \"class\"] = 1\n",
    "bear_filtered.loc[bear_filtered.dropna(subset=[\"change_6m\"])[(bear_filtered[\"change_6m\"].dropna() < 0).resample(\"D\").ffill()].index, \"class\"] = 1\n",
    "bear_filtered.loc[bear_filtered.dropna(subset=[\"change_12m\"])[(bear_filtered[\"change_12m\"].dropna() < 0).resample(\"D\").ffill()].index, \"class\"] = 1\n",
    "bear_dates = bear_filtered[\"class\"].resample(\"D\").ffill()"
   ]
  },
  {
   "cell_type": "code",
   "execution_count": null,
   "metadata": {},
   "outputs": [],
   "source": [
    "pd.DataFrame(bear_dates[bear_dates == 1].index, columns=[\"date\"]).to_csv(\"../../time_periods/return_filter_bear_m_long_3_6_12.csv\", index=False)"
   ]
  },
  {
   "cell_type": "markdown",
   "metadata": {},
   "source": [
    "### Negative filter (ST)"
   ]
  },
  {
   "cell_type": "code",
   "execution_count": null,
   "metadata": {},
   "outputs": [],
   "source": [
    "bear_filtered = data_display.resample(\"MS\").first().copy()\n",
    "bear_filtered[\"class\"] = 0\n",
    "bear_filtered.loc[bear_filtered.dropna(subset=[\"change_2m\"])[(bear_filtered[\"change_2m\"].dropna() < 0).resample(\"D\").ffill()].index, \"class\"] = 1\n",
    "bear_filtered.loc[bear_filtered.dropna(subset=[\"change_3m\"])[(bear_filtered[\"change_3m\"].dropna() < 0).resample(\"D\").ffill()].index, \"class\"] = 1\n",
    "bear_dates = bear_filtered[\"class\"].resample(\"D\").ffill()"
   ]
  },
  {
   "cell_type": "code",
   "execution_count": null,
   "metadata": {},
   "outputs": [],
   "source": [
    "pd.DataFrame(bear_dates[bear_dates == 1].index, columns=[\"date\"]).to_csv(\"../../time_periods/return_filter_bear_m_short_2_3.csv\", index=False)"
   ]
  },
  {
   "cell_type": "markdown",
   "metadata": {},
   "source": [
    "### Positive filter (LT)"
   ]
  },
  {
   "cell_type": "code",
   "execution_count": null,
   "metadata": {},
   "outputs": [],
   "source": [
    "bull_filtered = data_display.resample(\"MS\").first().copy()\n",
    "bull_filtered[\"class\"] = 0\n",
    "bull_filtered.loc[bull_filtered.dropna(subset=[\"change_3m\"])[(bull_filtered[\"change_3m\"].dropna() > 0).resample(\"D\").ffill()].index, \"class\"] = 1\n",
    "bull_filtered.loc[bull_filtered.dropna(subset=[\"change_6m\"])[(bull_filtered[\"change_6m\"].dropna() > 0).resample(\"D\").ffill()].index, \"class\"] = 1\n",
    "bull_filtered.loc[bull_filtered.dropna(subset=[\"change_12m\"])[(bull_filtered[\"change_6m\"].dropna() > 0).resample(\"D\").ffill()].index, \"class\"] = 1\n",
    "bull_dates = bull_filtered[\"class\"].resample(\"D\").ffill()"
   ]
  },
  {
   "cell_type": "code",
   "execution_count": null,
   "metadata": {},
   "outputs": [],
   "source": [
    "pd.DataFrame(bull_dates[bull_dates == 1].index, columns=[\"date\"]).to_csv(\"../../time_periods/return_filter_bull_m_long_3_6_12.csv\", index=False)"
   ]
  },
  {
   "cell_type": "markdown",
   "metadata": {},
   "source": [
    "### Positive filter (ST)"
   ]
  },
  {
   "cell_type": "code",
   "execution_count": null,
   "metadata": {},
   "outputs": [],
   "source": [
    "bull_filtered = data_display.resample(\"MS\").first().copy()\n",
    "bull_filtered[\"class\"] = 0\n",
    "bull_filtered.loc[bull_filtered.dropna(subset=[\"change_2m\"])[(bull_filtered[\"change_2m\"].dropna() > 0).resample(\"D\").ffill()].index, \"class\"] = 1\n",
    "bull_filtered.loc[bull_filtered.dropna(subset=[\"change_3m\"])[(bull_filtered[\"change_3m\"].dropna() > 0).resample(\"D\").ffill()].index, \"class\"] = 1\n",
    "bull_dates = bull_filtered[\"class\"].resample(\"D\").ffill()"
   ]
  },
  {
   "cell_type": "code",
   "execution_count": null,
   "metadata": {},
   "outputs": [],
   "source": [
    "pd.DataFrame(bull_dates[bull_dates == 1].index, columns=[\"date\"]).to_csv(\"../../time_periods/return_filter_bull_m_short_2_3.csv\", index=False)"
   ]
  }
 ],
 "metadata": {
  "kernelspec": {
   "display_name": "Python 3",
   "language": "python",
   "name": "python3"
  },
  "language_info": {
   "codemirror_mode": {
    "name": "ipython",
    "version": 3
   },
   "file_extension": ".py",
   "mimetype": "text/x-python",
   "name": "python",
   "nbconvert_exporter": "python",
   "pygments_lexer": "ipython3",
   "version": "3.10.11"
  }
 },
 "nbformat": 4,
 "nbformat_minor": 2
}
