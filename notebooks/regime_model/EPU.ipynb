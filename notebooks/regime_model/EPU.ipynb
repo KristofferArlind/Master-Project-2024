{
 "cells": [
  {
   "cell_type": "code",
   "execution_count": null,
   "metadata": {},
   "outputs": [],
   "source": [
    "import pandas as pd\n",
    "import matplotlib.pyplot as plt\n",
    "import numpy as np\n",
    "pd.set_option('display.max_columns', 1000)\n",
    "pd.set_option('display.max_rows', 1000)"
   ]
  },
  {
   "cell_type": "code",
   "execution_count": null,
   "metadata": {},
   "outputs": [],
   "source": [
    "indicators = pd.read_parquet(\"../../data/indicators/US/all_indicators_raw_outer.parquet\", engine=\"pyarrow\")\n",
    "indicators[\"date\"] = pd.to_datetime(indicators[\"date\"])\n",
    "indicators.reset_index(drop=True, inplace=True)"
   ]
  },
  {
   "cell_type": "code",
   "execution_count": null,
   "metadata": {},
   "outputs": [],
   "source": [
    "nber_recessions = pd.read_parquet(\"../../data/indicators/US/nber_recession.parquet\")\n",
    "nber_recessions[\"date\"] = pd.to_datetime(nber_recessions[\"date\"])\n",
    "nber_recessions = nber_recessions[nber_recessions[\"date\"] >= \"1962-01-01\"]"
   ]
  },
  {
   "cell_type": "code",
   "execution_count": null,
   "metadata": {},
   "outputs": [],
   "source": [
    "us_top_500 = pd.read_parquet(\"../../data/indicators/US/us_top_500.parquet\", engine=\"pyarrow\")\n",
    "us_top_500[\"date\"] = pd.to_datetime(us_top_500[\"date\"])\n",
    "data = pd.merge(indicators, us_top_500, on=[\"date\"], how=\"outer\")"
   ]
  },
  {
   "cell_type": "code",
   "execution_count": null,
   "metadata": {},
   "outputs": [],
   "source": [
    "data.set_index(\"date\", inplace=True)\n",
    "np.random.seed(49)"
   ]
  },
  {
   "cell_type": "code",
   "execution_count": null,
   "metadata": {},
   "outputs": [],
   "source": [
    "epu = pd.read_excel(\"../../data/indicators/US/US_Policy_Uncertainty_Data_EPU.xlsx\")\n",
    "epu = epu[[\"Date\", \"Three_Component_Index\", \"News_Based_Policy_Uncert_Index\"]]\n",
    "epu.rename(columns={\"Date\": \"date\", \"Three_Component_Index\" : \"index\", \"News_Based_Policy_Uncert_Index\" : \"news_index\"}, inplace=True)\n",
    "epu[\"date\"] = pd.to_datetime(epu[\"date\"])\n",
    "epu.set_index(\"date\", inplace=True)\n",
    "epu.dropna(inplace=True)"
   ]
  },
  {
   "cell_type": "code",
   "execution_count": null,
   "metadata": {},
   "outputs": [],
   "source": [
    "epu.tail()"
   ]
  },
  {
   "cell_type": "markdown",
   "metadata": {},
   "source": [
    "## Plotting the dates calculated below"
   ]
  },
  {
   "cell_type": "code",
   "execution_count": null,
   "metadata": {},
   "outputs": [],
   "source": [
    "epu_rec_dates = pd.read_csv(\"../../time_periods/model_train_ready/EPU_rec_2yr.csv\")\n",
    "epu_rec_dates[\"date\"] = pd.to_datetime(epu_rec_dates[\"date\"])"
   ]
  },
  {
   "cell_type": "code",
   "execution_count": null,
   "metadata": {},
   "outputs": [],
   "source": [
    "epu_rec_dates = pd.read_csv(\"../../time_periods/model_train_ready/EPU_rec_5yr.csv\")\n",
    "epu_rec_dates[\"date\"] = pd.to_datetime(epu_rec_dates[\"date\"])"
   ]
  },
  {
   "cell_type": "code",
   "execution_count": null,
   "metadata": {},
   "outputs": [],
   "source": [
    "epu_exp_dates = pd.read_csv(\"../../time_periods/model_train_ready/EPU_exp_2yr.csv\")\n",
    "epu_exp_dates[\"date\"] = pd.to_datetime(epu_exp_dates[\"date\"])"
   ]
  },
  {
   "cell_type": "code",
   "execution_count": null,
   "metadata": {},
   "outputs": [],
   "source": [
    "epu_exp_dates"
   ]
  },
  {
   "cell_type": "code",
   "execution_count": null,
   "metadata": {},
   "outputs": [],
   "source": [
    "nber_rec_dates = pd.read_csv(\"../../time_periods/model_train_ready/nber_recession_dates.csv\")\n",
    "nber_rec_dates[\"date\"] = pd.to_datetime(nber_rec_dates[\"date\"])\n"
   ]
  },
  {
   "cell_type": "code",
   "execution_count": null,
   "metadata": {},
   "outputs": [],
   "source": [
    "#One algo\n",
    "\n",
    "fig, ax = plt.subplots(1, figsize=(12, 4), sharex=False)\n",
    "\n",
    "data_copy = data.copy()\n",
    "\n",
    "min_date = pd.Timestamp(\"1985-01-01\")\n",
    "\n",
    "resample_freq = \"MS\"\n",
    "\n",
    "\n",
    "market_cap = data_copy[data_copy.index > min_date][\"market_cap_usd\"].resample(resample_freq).first()\n",
    "\n",
    "ax2 = ax.twinx()\n",
    "\n",
    "ax2.plot(market_cap, alpha=0.5, color=\"tab:orange\", linewidth=2)\n",
    "ax2.set_yscale('log')\n",
    "\n",
    "current_i = 0\n",
    "for i in range(len(epu_rec_dates['date'])-1):\n",
    "    if epu_rec_dates['date'].iloc[i+1] - pd.DateOffset(days=1) == epu_rec_dates['date'].iloc[i]:\n",
    "        continue\n",
    "    ax.axvspan(epu_rec_dates['date'].iloc[current_i], epu_rec_dates['date'].iloc[i] + pd.DateOffset(days=1), facecolor='red', alpha=0.3, ymin=0.5, ymax=0.9)\n",
    "    current_i = i + 1\n",
    "ax.axvspan(epu_rec_dates['date'].iloc[current_i], epu_rec_dates['date'].iloc[i] + pd.DateOffset(days=1), facecolor='red', alpha=0.3, ymin=0.5, ymax=0.9)\n",
    "\n",
    "    \n",
    "current_i = 0\n",
    "for i in range(len(epu_exp_dates['date'])-1):\n",
    "    if epu_exp_dates['date'].iloc[i+1] - pd.DateOffset(days=1) == epu_exp_dates['date'].iloc[i]:\n",
    "        continue\n",
    "    ax.axvspan(epu_exp_dates['date'].iloc[current_i], epu_exp_dates['date'].iloc[i] + pd.DateOffset(days=1), facecolor='blue', alpha=0.3, ymin=0.1, ymax=0.5)\n",
    "    current_i = i + 1\n",
    "ax.axvspan(epu_exp_dates['date'].iloc[current_i], epu_exp_dates['date'].iloc[i] + pd.DateOffset(days=1), facecolor='blue', alpha=0.3, ymin=0.1, ymax=0.5)\n",
    "\n",
    "ax.plot(epu[\"index\"], label=\"EPU\")\n",
    "\n",
    "current_i = 0\n",
    "for i in range(len(nber_rec_dates['date'])-1):\n",
    "    if nber_rec_dates['date'].iloc[i+1] - pd.DateOffset(days=1) == nber_rec_dates['date'].iloc[i]:\n",
    "        continue\n",
    "    ax.axvspan(nber_rec_dates['date'].iloc[current_i], nber_rec_dates['date'].iloc[i] + pd.DateOffset(days=1), facecolor='grey', alpha=0.5)\n",
    "    current_i = i + 1\n",
    "ax.axvspan(nber_rec_dates['date'].iloc[current_i], nber_rec_dates['date'].iloc[i] + pd.DateOffset(days=1), facecolor='grey', alpha=0.5)\n",
    "\n",
    "rolling_avg = epu[\"index\"].rolling(f'{5*12*30}D').mean()\n",
    "criterion = (epu[\"index\"] > rolling_avg)\n",
    "\n",
    "ax.tick_params(axis='both', which='major', labelsize=14)\n",
    "\n",
    "ax2.axes.get_yaxis().set_ticks([])\n",
    "\n",
    "ax.set_ylabel(\"EPU Index\", fontsize=16)\n",
    "\n",
    "plt.xlim(min_date, pd.Timestamp(\"2023-12-31\"))\n",
    "plt.tight_layout()"
   ]
  },
  {
   "cell_type": "code",
   "execution_count": null,
   "metadata": {},
   "outputs": [],
   "source": [
    "fig.savefig(\"../../figures/epu-filter-rec-and-exp-2yr.pdf\", dpi=3000)"
   ]
  },
  {
   "cell_type": "markdown",
   "metadata": {},
   "source": [
    "## USing the filter, saving the dates"
   ]
  },
  {
   "cell_type": "code",
   "execution_count": null,
   "metadata": {},
   "outputs": [],
   "source": [
    "epu[\"class\"] = 0\n",
    "epu.loc[epu[\"index\"] < epu[\"index\"].rolling(f'{2*12*30}D').mean(), \"class\"] = 1\n",
    "epu_daily = epu.resample(\"D\").ffill()\n"
   ]
  },
  {
   "cell_type": "code",
   "execution_count": null,
   "metadata": {},
   "outputs": [],
   "source": [
    "pd.DataFrame(epu_daily[epu_daily[\"class\"] == 1].index, columns=[\"date\"]).to_csv(\"../../time_periods/model_train_ready/EPU_exp_2yr.csv\", index=False)"
   ]
  },
  {
   "cell_type": "code",
   "execution_count": null,
   "metadata": {},
   "outputs": [],
   "source": [
    "epu[\"class\"] = 0\n",
    "epu.loc[(epu[\"index\"] > epu[\"index\"].rolling(f'{2*12*30}D').mean()), \"class\"] = 1\n",
    "epu_daily = epu.resample(\"D\").ffill()"
   ]
  },
  {
   "cell_type": "code",
   "execution_count": null,
   "metadata": {},
   "outputs": [],
   "source": [
    "pd.DataFrame(epu_daily[epu_daily[\"class\"] == 1].index, columns=[\"date\"]).to_csv(\"../../time_periods/model_train_ready/EPU_exp_2yr.csv\", index=False)"
   ]
  }
 ],
 "metadata": {
  "kernelspec": {
   "display_name": "Python 3",
   "language": "python",
   "name": "python3"
  },
  "language_info": {
   "codemirror_mode": {
    "name": "ipython",
    "version": 3
   },
   "file_extension": ".py",
   "mimetype": "text/x-python",
   "name": "python",
   "nbconvert_exporter": "python",
   "pygments_lexer": "ipython3",
   "version": "3.10.11"
  }
 },
 "nbformat": 4,
 "nbformat_minor": 2
}
