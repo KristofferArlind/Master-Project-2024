{
 "cells": [
  {
   "cell_type": "code",
   "execution_count": null,
   "metadata": {},
   "outputs": [],
   "source": [
    "import pandas as pd\n",
    "import matplotlib.pyplot as plt\n",
    "import numpy as np\n",
    "pd.set_option('display.max_columns', 1000)\n",
    "pd.set_option('display.max_rows', 1000)"
   ]
  },
  {
   "cell_type": "code",
   "execution_count": null,
   "metadata": {},
   "outputs": [],
   "source": [
    "nber_recessions = pd.read_parquet(\"../../data/indicators/US/nber_recession.parquet\")\n",
    "nber_recessions[\"date\"] = pd.to_datetime(nber_recessions[\"date\"])\n",
    "nber_recessions = nber_recessions[nber_recessions[\"date\"] >= \"1962-01-01\"]"
   ]
  },
  {
   "cell_type": "code",
   "execution_count": null,
   "metadata": {},
   "outputs": [],
   "source": [
    "us_top_500 = pd.read_parquet(\"../../data/indicators/US/us_top_500.parquet\", engine=\"pyarrow\")\n",
    "us_top_500[\"date\"] = pd.to_datetime(us_top_500[\"date\"])\n",
    "data = us_top_500"
   ]
  },
  {
   "cell_type": "code",
   "execution_count": null,
   "metadata": {},
   "outputs": [],
   "source": [
    "data.set_index(\"date\", inplace=True)\n",
    "np.random.seed(49)"
   ]
  },
  {
   "cell_type": "code",
   "execution_count": null,
   "metadata": {},
   "outputs": [],
   "source": [
    "bear_periods = pd.read_csv(\"../../time_periods/bear_periods_sp500.csv\", delimiter=\";\")\n",
    "bear_periods[\"period_start\"] = pd.to_datetime(bear_periods[\"period_start\"])\n",
    "bear_periods[\"period_end\"] = pd.to_datetime(bear_periods[\"period_end\"])"
   ]
  },
  {
   "cell_type": "code",
   "execution_count": null,
   "metadata": {},
   "outputs": [],
   "source": [
    "bear_dates = pd.read_csv(\"../../time_periods/bear_dates_sp500.csv\")\n",
    "bear_dates[\"date\"] = pd.to_datetime(bear_dates[\"date\"])"
   ]
  },
  {
   "cell_type": "code",
   "execution_count": null,
   "metadata": {},
   "outputs": [],
   "source": [
    "bull_periods = pd.read_csv(\"../../time_periods/bull_periods_sp500.csv\", delimiter=\";\")\n",
    "bull_periods[\"period_start\"] = pd.to_datetime(bull_periods[\"period_start\"])\n",
    "bull_periods[\"period_end\"] = pd.to_datetime(bull_periods[\"period_end\"])"
   ]
  },
  {
   "cell_type": "code",
   "execution_count": null,
   "metadata": {},
   "outputs": [],
   "source": [
    "bull_dates = pd.read_csv(\"../../time_periods/bull_dates_sp500.csv\")\n",
    "bull_dates[\"date\"] = pd.to_datetime(bull_dates[\"date\"])"
   ]
  },
  {
   "cell_type": "code",
   "execution_count": null,
   "metadata": {},
   "outputs": [],
   "source": [
    "nber_rec_dates = pd.read_csv(\"../../time_periods/model_train_ready/nber_recession_dates.csv\")\n",
    "nber_rec_dates[\"date\"] = pd.to_datetime(nber_rec_dates[\"date\"])"
   ]
  },
  {
   "cell_type": "code",
   "execution_count": null,
   "metadata": {},
   "outputs": [],
   "source": [
    "\n",
    "\n",
    "fig, ax = plt.subplots(1, figsize=(12, 4), sharex=False)\n",
    "\n",
    "data_copy = data.copy()\n",
    "\n",
    "min_date = pd.Timestamp(\"1962-01-01\")\n",
    "max_date = pd.Timestamp(\"2024-01-01\")\n",
    "\n",
    "resample_freq = \"W-FRI\"\n",
    "\n",
    "\n",
    "market_cap = data_copy[(data_copy.index > min_date) & (data_copy.index < max_date)][\"market_cap_usd\"].resample(resample_freq).first()\n",
    "#market_cap = data_copy[data_copy.index > min_date][\"market_cap_usd\"]\n",
    "\n",
    "#ax2 = ax.twinx()\n",
    "market_cap.plot(ax=ax, alpha=0.5, color=\"tab:orange\", label=\"Index Market Cap (Log)\", logy=True, linewidth=2)\n",
    "\n",
    "\n",
    "current_i = 0\n",
    "for i in range(len(nber_rec_dates['date'])-1):\n",
    "    if nber_rec_dates['date'].iloc[i+1] - pd.DateOffset(days=1) == nber_rec_dates['date'].iloc[i]:\n",
    "        continue\n",
    "    ax.axvspan(nber_rec_dates['date'].iloc[current_i], nber_rec_dates['date'].iloc[i] + pd.DateOffset(days=1), facecolor='grey', alpha=0.5)\n",
    "    current_i = i + 1\n",
    "ax.axvspan(nber_rec_dates['date'].iloc[current_i], nber_rec_dates['date'].iloc[i] + pd.DateOffset(days=1), facecolor='grey', alpha=0.5)\n",
    "\n",
    "\n",
    "#for row in bear_periods.iterrows():\n",
    "#    criterion = (market_cap.index > row[1][\"period_start\"]) & (market_cap.index < row[1][\"period_end\"])\n",
    "#    ax.fill_between(market_cap.index, 10**14, where= criterion, facecolor='red', alpha=0.3)\n",
    "    \n",
    "#for row in bull_periods.iterrows():\n",
    "#    criterion = (market_cap.index > row[1][\"period_start\"]) & (market_cap.index < row[1][\"period_end\"])\n",
    "#    ax.fill_between(market_cap.index, 10**14, where= criterion, facecolor='blue', alpha=0.3)\n",
    "\n",
    "current_i = 0\n",
    "for i in range(len(bear_dates['date'])-1):\n",
    "    if bear_dates['date'].iloc[i+1] - pd.DateOffset(days=1) == bear_dates['date'].iloc[i]:\n",
    "        continue\n",
    "    ax.axvspan(bear_dates['date'].iloc[current_i], bear_dates['date'].iloc[i] + pd.DateOffset(days=1), facecolor='red', alpha=0.3, ymin=0.5, ymax=0.9)\n",
    "    current_i = i + 1\n",
    "ax.axvspan(bear_dates['date'].iloc[current_i], bear_dates['date'].iloc[i] + pd.DateOffset(days=1), facecolor='red', alpha=0.3, ymin=0.5, ymax=0.9)\n",
    "\n",
    "    \n",
    "current_i = 0\n",
    "for i in range(len(bull_dates['date'])-1):\n",
    "    if bull_dates['date'].iloc[i+1] - pd.DateOffset(days=1) == bull_dates['date'].iloc[i]:\n",
    "        continue\n",
    "    ax.axvspan(bull_dates['date'].iloc[current_i], bull_dates['date'].iloc[i] + pd.DateOffset(days=1), facecolor='blue', alpha=0.3, ymin=0.1, ymax=0.5)\n",
    "    current_i = i + 1\n",
    "ax.axvspan(bull_dates['date'].iloc[current_i], bull_dates['date'].iloc[i] + pd.DateOffset(days=1), facecolor='blue', alpha=0.3, ymin=0.1, ymax=0.5)\n",
    "\n",
    "\n",
    "\n",
    "#ax.legend(fontsize=14)\n",
    "#plt.tight_layout()\n",
    "\n",
    "#axes[0].grid()\n",
    "#axes[1].grid()\n",
    "\n",
    "ax.tick_params(axis='both', which='major', labelsize=14)\n",
    "\n",
    "#Remove ticks from ax2:\n",
    "ax.axes.get_yaxis().set_ticks([])\n",
    "\n",
    "\n",
    "ax.axes.get_xaxis().set_label_text('')\n",
    "\n",
    "nber_end_lines = False\n",
    "nber_end_ann_dates = [\"1981-07-08\", \"1983-07-08\", \"1992-12-22\", \"2003-07-17\", \"2010-09-20\"]\n",
    "\n",
    "if nber_end_lines:\n",
    "    for i, date in enumerate(nber_end_ann_dates):\n",
    "        if i == 0:\n",
    "            ax.axvline(pd.Timestamp(date), color=\"red\", linestyle=\"--\", alpha=0.5, lw=2, label=\"NBER Rec. End Accouncement\")\n",
    "        else:\n",
    "            ax.axvline(pd.Timestamp(date), color=\"red\", linestyle=\"--\", alpha=0.5, lw=2)\n",
    "\n",
    "nber_start_lines = False\n",
    "nber_start_ann_dates = [\"1980-06-03\", \"1982-01-06\", \"1991-04-25\", \"2001-11-26\", \"2008-12-01\"]\n",
    "\n",
    "if nber_start_lines:\n",
    "    for i, date in enumerate(nber_start_ann_dates):\n",
    "        if i == 0:\n",
    "            ax.axvline(pd.Timestamp(date), color=\"green\", linestyle=\"--\", alpha=0.5, lw=2, label=\"NBER Rec. Start Accouncement\")\n",
    "        else:\n",
    "            ax.axvline(pd.Timestamp(date), color=\"green\", linestyle=\"--\", alpha=0.5, lw=2)\n",
    "\n",
    "bear = True\n",
    "training_lines = True\n",
    "\n",
    "training_split_dates_bear = [date + pd.DateOffset(months=6) for date in bear_periods[\"period_end\"]]\n",
    "training_split_dates_bear = [date for date in training_split_dates_bear if date > pd.Timestamp(\"1974-01-01\")]\n",
    "training_split_dates_bear.remove(pd.Timestamp(\"2000-11-25\"))\n",
    "\n",
    "training_split_dates_bull = [date + pd.DateOffset(months=6) for date in bull_periods[\"period_end\"]]\n",
    "training_split_dates_bull = [date for date in training_split_dates_bull if date > pd.Timestamp(\"1974-01-01\")]\n",
    "training_split_dates_bull.remove(pd.Timestamp(\"1988-02-25\"))\n",
    "training_split_dates_bull.remove(pd.Timestamp(\"1999-01-17\"))\n",
    "training_split_dates_bull.remove(pd.Timestamp(\"2004-09-01\"))\n",
    "training_split_dates_bull.remove(pd.Timestamp(\"2006-11-08\"))\n",
    "training_split_dates_bull.remove(pd.Timestamp(\"2010-10-23\"))\n",
    "training_split_dates_bull.remove(pd.Timestamp(\"2011-11-02\"))\n",
    "training_split_dates_bull.remove(pd.Timestamp(\"2018-07-25\"))\n",
    "training_split_dates_bull.remove(pd.Timestamp(\"2019-03-20\"))\n",
    "training_split_dates_bull.remove(pd.Timestamp(\"2020-08-19\"))\n",
    "#training_split_dates.remove(pd.Timestamp(\"2000-11-25\"))\n",
    "\n",
    "\n",
    "if training_lines:\n",
    "    for i, date in enumerate(training_split_dates_bear):\n",
    "        ax.axvline(pd.Timestamp(date), color=\"red\", linestyle=\"--\", alpha=0.6, lw=2, ymax=0.9, ymin=0.5)\n",
    "    for i, date in enumerate(training_split_dates_bull):\n",
    "        ax.axvline(pd.Timestamp(date), color=\"blue\", linestyle=\"--\", alpha=0.6, lw=2, ymax=0.5, ymin=0.1)\n",
    "        \n",
    "plt.tight_layout()\n",
    "#ax.legend(fontsize=14)"
   ]
  },
  {
   "cell_type": "code",
   "execution_count": null,
   "metadata": {},
   "outputs": [],
   "source": [
    "all_dates = pd.DataFrame(list(pd.date_range(start=\"1961-01-01\", end=\"2025-01-01\", freq=\"D\")), columns=[\"date\"])"
   ]
  },
  {
   "cell_type": "markdown",
   "metadata": {},
   "source": [
    "#### Bear/bull periods are plotted into bear_periods/bull_periods csvs and converted to individual dates here"
   ]
  },
  {
   "cell_type": "markdown",
   "metadata": {},
   "source": [
    "### Bear periods to bear/non bear dates"
   ]
  },
  {
   "cell_type": "code",
   "execution_count": null,
   "metadata": {},
   "outputs": [],
   "source": [
    "date_intervals = []\n",
    "for index, row in bear_periods.iterrows():\n",
    "    start_date = row['period_start']\n",
    "    end_date = row['period_end']\n",
    "    date_intervals.append((pd.to_datetime(start_date), pd.to_datetime(end_date)))\n",
    "\n",
    "bear_dates = pd.concat([all_dates[(all_dates['date'] >= start_date) & (all_dates['date'] <= end_date)] \n",
    "            for start_date, end_date in date_intervals])\n",
    "\n",
    "non_bear_dates = all_dates[~all_dates['date'].isin(bear_dates['date'])]\n"
   ]
  },
  {
   "cell_type": "code",
   "execution_count": null,
   "metadata": {},
   "outputs": [],
   "source": [
    "bear_dates.to_csv(\"../../time_periods/bear_dates_sp500.csv\", index=False)\n",
    "non_bear_dates.to_csv(\"../../time_periods/non_bear_dates_sp500.csv\", index=False)"
   ]
  },
  {
   "cell_type": "markdown",
   "metadata": {},
   "source": [
    "### Bull periods to bull/non bull dates"
   ]
  },
  {
   "cell_type": "code",
   "execution_count": null,
   "metadata": {},
   "outputs": [],
   "source": [
    "bull_periods = pd.read_csv(\"../../time_periods/bull_periods_sp500.csv\", delimiter=\";\")\n",
    "bull_periods[\"period_start\"] = pd.to_datetime(bull_periods[\"period_start\"])\n",
    "bull_periods[\"period_end\"] = pd.to_datetime(bull_periods[\"period_end\"])"
   ]
  },
  {
   "cell_type": "code",
   "execution_count": null,
   "metadata": {},
   "outputs": [],
   "source": [
    "date_intervals = []\n",
    "for index, row in bull_periods.iterrows():\n",
    "    start_date = row['period_start']\n",
    "    end_date = row['period_end']\n",
    "    date_intervals.append((pd.to_datetime(start_date), pd.to_datetime(end_date)))\n",
    "\n",
    "bull_dates = pd.concat([all_dates[(all_dates['date'] >= start_date) & (all_dates['date'] <= end_date)] \n",
    "            for start_date, end_date in date_intervals])\n",
    "\n",
    "non_bull_dates = all_dates[~all_dates['date'].isin(bull_dates['date'])]"
   ]
  },
  {
   "cell_type": "code",
   "execution_count": null,
   "metadata": {},
   "outputs": [],
   "source": [
    "bull_dates.to_csv(\"../../time_periods/bull_dates_sp500.csv\", index=False)\n",
    "non_bull_dates.to_csv(\"../../time_periods/non_bull_dates_sp500.csv\", index=False)"
   ]
  },
  {
   "cell_type": "markdown",
   "metadata": {},
   "source": [
    "### Flat dates"
   ]
  },
  {
   "cell_type": "code",
   "execution_count": null,
   "metadata": {},
   "outputs": [],
   "source": [
    "flat_dates = pd.merge(non_bull_dates, non_bear_dates, on=\"date\", how=\"inner\")\n",
    "flat_dates.to_csv(\"../../time_periods/flat_dates_sp500.csv\", index=False)"
   ]
  }
 ],
 "metadata": {
  "kernelspec": {
   "display_name": "Python 3",
   "language": "python",
   "name": "python3"
  },
  "language_info": {
   "codemirror_mode": {
    "name": "ipython",
    "version": 3
   },
   "file_extension": ".py",
   "mimetype": "text/x-python",
   "name": "python",
   "nbconvert_exporter": "python",
   "pygments_lexer": "ipython3",
   "version": "3.10.11"
  }
 },
 "nbformat": 4,
 "nbformat_minor": 2
}
