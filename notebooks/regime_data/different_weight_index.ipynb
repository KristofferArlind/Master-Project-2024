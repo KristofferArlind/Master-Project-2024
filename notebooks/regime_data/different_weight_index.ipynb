{
 "cells": [
  {
   "cell_type": "code",
   "execution_count": null,
   "id": "a0b158d5",
   "metadata": {},
   "outputs": [],
   "source": [
    "import pandas as pd\n",
    "import matplotlib.ticker as mtick\n",
    "pd.set_option(\"display.max_columns\", 500)\n",
    "pd.set_option(\"display.max_rows\", 5000)"
   ]
  },
  {
   "cell_type": "code",
   "execution_count": null,
   "id": "b708eed3",
   "metadata": {},
   "outputs": [],
   "source": [
    "years = list(range(1926,2023+1))"
   ]
  },
  {
   "cell_type": "code",
   "execution_count": null,
   "id": "1fed568d",
   "metadata": {},
   "outputs": [],
   "source": [
    "all_data = pd.DataFrame(columns=[\"date\", \"trr_1_n\", \"market_cap_usd\"])"
   ]
  },
  {
   "cell_type": "code",
   "execution_count": null,
   "id": "366a9228",
   "metadata": {
    "scrolled": true
   },
   "outputs": [],
   "source": [
    "#Cap weight top n\n",
    "for year in years:\n",
    "    print(year)\n",
    "    data = pd.read_parquet(f'../../data/processed/csrp/us_data_{year}_processed.parquet', engine=\"pyarrow\", columns=[\"date\", \"trr_1_n\", \"market_cap_usd\"])\n",
    "    data[\"date\"] = pd.to_datetime(data[\"date\"])\n",
    "    n_largest = data.groupby(\"date\")[[\"market_cap_usd\", \"trr_1_n\"]].apply(lambda x: x.nlargest(n, columns=\"market_cap_usd\")).reset_index(level=0)\n",
    "    \n",
    "    all_data = pd.concat([all_data, n_largest])\n",
    "    \n",
    "total_market_cap = all_data.groupby(\"date\")[\"market_cap_usd\"].sum().reset_index()\n",
    "    \n",
    "total_market_cap[\"trr_1_n\"] = total_market_cap[\"market_cap_usd\"].pct_change()\n",
    "\n",
    "top_n_index = total_market_cap.copy()\n"
   ]
  },
  {
   "cell_type": "code",
   "execution_count": null,
   "id": "04226f06",
   "metadata": {},
   "outputs": [],
   "source": [
    "top_n_index.to_parquet(\"../../data/indicators/US/us_top_500.parquet\", index=False)"
   ]
  },
  {
   "cell_type": "markdown",
   "id": "829d33b3",
   "metadata": {},
   "source": [
    "The following index is not used in the thesis"
   ]
  },
  {
   "cell_type": "code",
   "execution_count": null,
   "id": "34f72af5",
   "metadata": {},
   "outputs": [],
   "source": [
    "all_data = pd.DataFrame(columns=[\"date\", \"trr_1_n\", \"market_cap_usd\"])"
   ]
  },
  {
   "cell_type": "code",
   "execution_count": null,
   "id": "31ab11e5",
   "metadata": {
    "scrolled": true
   },
   "outputs": [],
   "source": [
    "#Cap weight top n minus top m stocks\n",
    "for year in years:\n",
    "    print(year)\n",
    "    data = pd.read_parquet(f'../../data/processed/csrp/us_data_{year}_processed.parquet', engine=\"pyarrow\", columns=[\"date\", \"trr_1_n\", \"market_cap_usd\"])\n",
    "    data[\"date\"] = pd.to_datetime(data[\"date\"])\n",
    "    n_largest = data.groupby(\"date\")[[\"market_cap_usd\", \"trr_1_n\"]].apply(lambda x: x.nlargest(n, columns=\"market_cap_usd\")).reset_index(level=0)\n",
    "    n_largest_minus_m = n_largest.groupby(\"date\")[[\"market_cap_usd\", \"trr_1_n\"]].apply(lambda x: x.nsmallest(n-m, columns=\"market_cap_usd\")).reset_index(level=0)\n",
    "    \n",
    "    all_data = pd.concat([all_data, n_largest_minus_m])\n",
    "    \n",
    "total_market_cap = all_data.groupby(\"date\")[\"market_cap_usd\"].sum().reset_index()\n",
    "    \n",
    "total_market_cap[\"trr_1_n\"] = total_market_cap[\"market_cap_usd\"].pct_change()\n",
    "\n",
    "top_n_index_minus_m = total_market_cap.copy()"
   ]
  },
  {
   "cell_type": "code",
   "execution_count": null,
   "id": "4e0af51e",
   "metadata": {},
   "outputs": [],
   "source": [
    "top_n_index_minus_m.plot(x=\"date\", y=\"market_cap_usd_adjusted\", grid=True)"
   ]
  },
  {
   "cell_type": "code",
   "execution_count": null,
   "id": "c5ff0f50",
   "metadata": {},
   "outputs": [],
   "source": [
    "top_n_index_minus_m.to_parquet(\"../../data/indicators/US/us_top_500_minus_top_50.parquet\", index=False)"
   ]
  },
  {
   "cell_type": "code",
   "execution_count": null,
   "id": "68ef4e8a",
   "metadata": {},
   "outputs": [],
   "source": [
    "top_n_index_minus_m.plot(x=\"date\", y=\"market_cap_usd\", grid=True)"
   ]
  }
 ],
 "metadata": {
  "kernelspec": {
   "display_name": "Python 3 (ipykernel)",
   "language": "python",
   "name": "python3"
  },
  "language_info": {
   "codemirror_mode": {
    "name": "ipython",
    "version": 3
   },
   "file_extension": ".py",
   "mimetype": "text/x-python",
   "name": "python",
   "nbconvert_exporter": "python",
   "pygments_lexer": "ipython3",
   "version": "3.9.13"
  }
 },
 "nbformat": 4,
 "nbformat_minor": 5
}
