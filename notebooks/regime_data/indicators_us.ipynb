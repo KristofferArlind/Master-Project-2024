{
 "cells": [
  {
   "cell_type": "code",
   "execution_count": null,
   "id": "d4e1b5ac",
   "metadata": {},
   "outputs": [],
   "source": [
    "import pandas as pd\n",
    "import matplotlib.pyplot as plt\n",
    "pd.set_option('display.max_columns', 500)\n",
    "pd.set_option('display.max_rows', 500)"
   ]
  },
  {
   "cell_type": "markdown",
   "id": "96adfc6c",
   "metadata": {},
   "source": [
    "## S&P 500 Earnings Yield\n",
    "\n",
    "From Compustat indices, cant use own data as its only annual earnings"
   ]
  },
  {
   "cell_type": "code",
   "execution_count": null,
   "id": "b89206a7",
   "metadata": {},
   "outputs": [],
   "source": [
    "compustat_index = pd.read_csv('../../data/indices/compustat_na_index_prices.zip')"
   ]
  },
  {
   "cell_type": "code",
   "execution_count": null,
   "id": "9f151742",
   "metadata": {},
   "outputs": [],
   "source": [
    "comp_sp500 = compustat_index[compustat_index[\"gvkeyx\"] == 3]"
   ]
  },
  {
   "cell_type": "code",
   "execution_count": null,
   "id": "7970509f",
   "metadata": {},
   "outputs": [],
   "source": [
    "comp_sp500"
   ]
  },
  {
   "cell_type": "code",
   "execution_count": null,
   "id": "60fd4c64",
   "metadata": {},
   "outputs": [],
   "source": [
    "comp_sp500 = comp_sp500[[\"datadate\", \"prccm\", \"epsx12\", \"dvpsxm\"]]\n",
    "comp_sp500.rename(columns={\"datadate\": \"date\", \"prccm\": \"price\", \"epsx12\": \"eps_12m\", \"dvpsxm\": \"dvps\"}, inplace=True)\n",
    "comp_sp500[\"date\"] = pd.to_datetime(comp_sp500[\"date\"])\n",
    "comp_sp500[\"date\"] = comp_sp500[\"date\"] + pd.DateOffset(days=1)"
   ]
  },
  {
   "cell_type": "code",
   "execution_count": null,
   "id": "473c49b7",
   "metadata": {},
   "outputs": [],
   "source": [
    "comp_sp500[\"dividend_yield\"] = comp_sp500[\"dvps\"] / comp_sp500[\"price\"]\n",
    "comp_sp500[\"dvps_12m\"] = comp_sp500[\"dvps\"].rolling(12).sum()\n",
    "comp_sp500[\"dividend_yield_12m\"] = comp_sp500[\"dividend_yield\"].rolling(12).sum()\n",
    "comp_sp500[\"earnings_yield_12m\"] = comp_sp500[\"eps_12m\"] / comp_sp500[\"price\"]"
   ]
  },
  {
   "cell_type": "code",
   "execution_count": null,
   "id": "e0b03b07",
   "metadata": {},
   "outputs": [],
   "source": [
    "comp_sp500.plot(x=\"date\", y=[\"eps_12m\"])"
   ]
  },
  {
   "cell_type": "code",
   "execution_count": null,
   "id": "cde1ee75",
   "metadata": {},
   "outputs": [],
   "source": [
    "comp_sp500.plot(x=\"date\", y=[\"dvps_12m\"])"
   ]
  },
  {
   "cell_type": "code",
   "execution_count": null,
   "id": "705520bc",
   "metadata": {},
   "outputs": [],
   "source": [
    "comp_sp500.plot(x=\"date\", y=[\"earnings_yield_12m\", \"dividend_yield_12m\"], logy=True)"
   ]
  },
  {
   "cell_type": "code",
   "execution_count": null,
   "id": "eebdb6cd",
   "metadata": {},
   "outputs": [],
   "source": [
    "comp_sp500[[\"date\", \"earnings_yield_12m\"]].to_parquet(\"../../data/indicators/US/sp500_earnings_yield.parquet\", index=False)\n",
    "comp_sp500[[\"date\", \"dividend_yield_12m\"]].to_parquet(\"../../data/indicators/US/sp500_dividend_yield.parquet\", index=False)\n",
    "comp_sp500[[\"date\", \"eps_12m\"]].to_parquet(\"../../data/indicators/US/sp500_eps.parquet\", index=False)\n",
    "comp_sp500[[\"date\", \"dvps_12m\"]].to_parquet(\"../../data/indicators/US/sp500_dvps.parquet\", index=False)"
   ]
  },
  {
   "cell_type": "markdown",
   "id": "35925f18",
   "metadata": {},
   "source": [
    "## Unemployment"
   ]
  },
  {
   "cell_type": "markdown",
   "id": "824ceb5f",
   "metadata": {},
   "source": [
    "https://fred.stlouisfed.org/series/UNRATE\n",
    "https://www.bls.gov/bls/archived_sched.htm\n",
    "Monthly + 15 days ish"
   ]
  },
  {
   "cell_type": "code",
   "execution_count": null,
   "id": "42d44d05",
   "metadata": {},
   "outputs": [],
   "source": [
    "us_unemployment = pd.read_csv(\"../../data/indicators/raw/fred_unemployment_us.csv\")\n",
    "us_unemployment.rename(columns={\"DATE\" : \"date\", \"UNRATE\" : \"unemployment\"}, inplace=True)\n",
    "us_unemployment[\"date\"] = pd.to_datetime(us_unemployment[\"date\"])"
   ]
  },
  {
   "cell_type": "code",
   "execution_count": null,
   "id": "63c54911",
   "metadata": {},
   "outputs": [],
   "source": [
    "us_unemployment"
   ]
  },
  {
   "cell_type": "code",
   "execution_count": null,
   "id": "5394d94c",
   "metadata": {},
   "outputs": [],
   "source": [
    "us_unemployment.to_parquet(\"../../data/indicators/US/us_unemployment.parquet\", index=False)"
   ]
  },
  {
   "cell_type": "markdown",
   "id": "edec5859",
   "metadata": {},
   "source": [
    "# Moodys Aaa-Baa credit spread"
   ]
  },
  {
   "cell_type": "markdown",
   "id": "c05afab9",
   "metadata": {},
   "source": [
    "https://fred.stlouisfed.org/series/AAA\n",
    "https://fred.stlouisfed.org/series/Baa\n",
    "Daily"
   ]
  },
  {
   "cell_type": "code",
   "execution_count": null,
   "id": "8b8c28d2",
   "metadata": {},
   "outputs": [],
   "source": [
    "moodys_Aaa = pd.read_csv(\"../../data/indicators/raw/fred_moodys_Aaa.csv\")\n",
    "moodys_Aaa.rename(columns={\"DATE\" : \"date\", \"AAA\" : \"moodys_Aaa\"}, inplace=True)\n",
    "moodys_Aaa[\"date\"] = pd.to_datetime(moodys_Aaa[\"date\"])\n",
    "moodys_Baa = pd.read_csv(\"../../data/indicators/raw/fred_moodys_Baa.csv\")\n",
    "moodys_Baa.rename(columns={\"DATE\" : \"date\", \"BAA\" : \"moodys_Baa\"}, inplace=True)\n",
    "moodys_Baa[\"date\"] = pd.to_datetime(moodys_Baa[\"date\"])\n"
   ]
  },
  {
   "cell_type": "code",
   "execution_count": null,
   "id": "0dba51a7",
   "metadata": {},
   "outputs": [],
   "source": [
    "moodys_credit = pd.merge(moodys_Aaa, moodys_Baa, on=\"date\", how=\"outer\")"
   ]
  },
  {
   "cell_type": "code",
   "execution_count": null,
   "id": "4558c774",
   "metadata": {},
   "outputs": [],
   "source": [
    "moodys_credit[\"spread\"] = moodys_credit[\"moodys_Baa\"] - moodys_credit[\"moodys_Aaa\"]"
   ]
  },
  {
   "cell_type": "code",
   "execution_count": null,
   "id": "9296bd48",
   "metadata": {},
   "outputs": [],
   "source": [
    "moodys_credit"
   ]
  },
  {
   "cell_type": "code",
   "execution_count": null,
   "id": "dea2e5b9",
   "metadata": {},
   "outputs": [],
   "source": [
    "moodys_credit.plot(x=\"date\", y=\"spread\", title=\"Moody's Baa - Aaa spread\")"
   ]
  },
  {
   "cell_type": "code",
   "execution_count": null,
   "id": "99c37db1",
   "metadata": {},
   "outputs": [],
   "source": [
    "moodys_credit.to_parquet(\"../../data/indicators/US/moodys_credit.parquet\", index=False)"
   ]
  },
  {
   "cell_type": "markdown",
   "id": "b49544e8",
   "metadata": {},
   "source": [
    "# ISM Manufacturers index"
   ]
  },
  {
   "cell_type": "markdown",
   "id": "e958c8ce",
   "metadata": {},
   "source": [
    "EIKON\n",
    "First business day of each month\n",
    "Does not need to be changed"
   ]
  },
  {
   "cell_type": "code",
   "execution_count": null,
   "id": "5ff71c6b",
   "metadata": {},
   "outputs": [],
   "source": [
    "ISM_index = pd.read_csv(\"../../data/indicators/raw/ISMSURVEY.csv\", delimiter=\";\", decimal=\",\")"
   ]
  },
  {
   "cell_type": "code",
   "execution_count": null,
   "id": "66aa671c",
   "metadata": {},
   "outputs": [],
   "source": [
    "ISM_index.rename(columns={\"Name\" : \"date\", \"US ISM MANUFACTURERS SURVEY: PRODUCTION INDEX SADJ\" : \"ISM_prod_index\", \n",
    "                          \"US ISM MANUFACTURERS SURVEY: NEW ORDERS INDEX SADJ\" : \"ISM_new_orders_index\",\n",
    "                          \"US ISM MANUFACTURERS SURVEY: EMPLOYMENT INDEX SADJ\" : \"ISM_emp_index\"}, inplace=True)"
   ]
  },
  {
   "cell_type": "code",
   "execution_count": null,
   "id": "b5875401",
   "metadata": {},
   "outputs": [],
   "source": [
    "ISM_index[\"date\"] = pd.to_datetime(ISM_index[\"date\"], format=\"%d.%m.%Y\")\n",
    "ISM_index = ISM_index[[\"date\", \"ISM_prod_index\", \"ISM_new_orders_index\", \"ISM_emp_index\"]]"
   ]
  },
  {
   "cell_type": "code",
   "execution_count": null,
   "id": "520b4a67",
   "metadata": {},
   "outputs": [],
   "source": [
    "ISM_index"
   ]
  },
  {
   "cell_type": "code",
   "execution_count": null,
   "id": "c60eb701",
   "metadata": {},
   "outputs": [],
   "source": [
    "ISM_index = ISM_index[ISM_index[\"date\"] >= \"1947-01-01\"]"
   ]
  },
  {
   "cell_type": "code",
   "execution_count": null,
   "id": "5a2d7b28",
   "metadata": {},
   "outputs": [],
   "source": [
    "ISM_index.to_parquet(\"../../data/indicators/US/ISM_index.parquet\", index=False)"
   ]
  },
  {
   "cell_type": "markdown",
   "id": "bd9ffe2f",
   "metadata": {},
   "source": [
    "# Initial unemployment claims (FRED)"
   ]
  },
  {
   "cell_type": "markdown",
   "id": "0ef5dc33",
   "metadata": {},
   "source": [
    "https://fred.stlouisfed.org/series/ICSA\n",
    "Ca. en uke"
   ]
  },
  {
   "cell_type": "code",
   "execution_count": null,
   "id": "0e245628",
   "metadata": {},
   "outputs": [],
   "source": [
    "initial_claims = pd.read_csv(\"../../data/indicators/raw/ICSA.csv\")"
   ]
  },
  {
   "cell_type": "code",
   "execution_count": null,
   "id": "c8268017",
   "metadata": {},
   "outputs": [],
   "source": [
    "initial_claims.rename(columns={\"DATE\" : \"date\", \"ICSA\" : \"initial_claims\"}, inplace=True)"
   ]
  },
  {
   "cell_type": "code",
   "execution_count": null,
   "id": "81ba3649",
   "metadata": {},
   "outputs": [],
   "source": [
    "initial_claims[\"date\"] = pd.to_datetime(initial_claims[\"date\"])"
   ]
  },
  {
   "cell_type": "code",
   "execution_count": null,
   "id": "3f58c4c9",
   "metadata": {},
   "outputs": [],
   "source": [
    "initial_claims.to_parquet(\"../../data/indicators/US/initial_claims.parquet\", index=False)"
   ]
  },
  {
   "cell_type": "markdown",
   "id": "424476f0",
   "metadata": {},
   "source": [
    "# Yields (FED)"
   ]
  },
  {
   "cell_type": "markdown",
   "id": "b08241e4",
   "metadata": {},
   "source": [
    "https://www.federalreserve.gov/releases/h15/\n",
    "Daily"
   ]
  },
  {
   "cell_type": "code",
   "execution_count": null,
   "id": "d4b848a5",
   "metadata": {},
   "outputs": [],
   "source": [
    "fed_interest_rates = pd.read_csv('../../data/indicators/raw/FRB_H15.csv', sep=',',)"
   ]
  },
  {
   "cell_type": "code",
   "execution_count": null,
   "id": "064e0305",
   "metadata": {},
   "outputs": [],
   "source": [
    "fed_interest_rates_dict = {\n",
    "    \"Time Period\" : \"date\",\n",
    "    \"RIFLGFCM01_N.B\" : \"rate_1_month\",\n",
    "    \"RIFLGFCM03_N.B\" : \"rate_3_month\",\n",
    "    \"RIFLGFCM06_N.B\" : \"rate_6_month\",\n",
    "    \"RIFLGFCY01_N.B\" : \"rate_1_year\",\n",
    "    \"RIFLGFCY02_N.B\" : \"rate_2_year\",\n",
    "    \"RIFLGFCY03_N.B\" : \"rate_3_year\",\n",
    "    \"RIFLGFCY05_N.B\" : \"rate_5_year\",\n",
    "    \"RIFLGFCY07_N.B\" : \"rate_7_year\",\n",
    "    \"RIFLGFCY10_N.B\" : \"rate_10_year\",\n",
    "    \"RIFLGFCY20_N.B\" : \"rate_20_year\",\n",
    "    \"RIFLGFCY30_N.B\" : \"rate_30_year\"\n",
    "}"
   ]
  },
  {
   "cell_type": "code",
   "execution_count": null,
   "id": "24c50830",
   "metadata": {},
   "outputs": [],
   "source": [
    "fed_interest_rates.columns = fed_interest_rates.iloc[4]\n",
    "fed_interest_rates = fed_interest_rates.iloc[5:]\n",
    "fed_interest_rates = fed_interest_rates.rename(columns=fed_interest_rates_dict)"
   ]
  },
  {
   "cell_type": "code",
   "execution_count": null,
   "id": "8090d0bd",
   "metadata": {},
   "outputs": [],
   "source": [
    "fed_interest_rates.to_parquet(\"../../data/indicators/US/fed_yields.parquet\", index=False)"
   ]
  },
  {
   "cell_type": "markdown",
   "id": "6e6eb0f3",
   "metadata": {},
   "source": [
    "# Federal funds (FED)"
   ]
  },
  {
   "cell_type": "markdown",
   "id": "53fd1f4b",
   "metadata": {},
   "source": [
    "https://www.federalreserve.gov/datadownload/Download.aspx?rel=H15&series=c5025f4bbbed155a6f17c587772ed69e&filetype=csv&label=include&layout=seriescolumn&from=01/01/1919&to=04/16/2024\n",
    "\n",
    "Changes irregularly"
   ]
  },
  {
   "cell_type": "code",
   "execution_count": null,
   "id": "b8162899",
   "metadata": {},
   "outputs": [],
   "source": [
    "fed_FF = pd.read_csv('../../data/indicators/raw/FRB_H15_FF.csv', sep=',')\n"
   ]
  },
  {
   "cell_type": "code",
   "execution_count": null,
   "id": "eee47f8e",
   "metadata": {},
   "outputs": [],
   "source": [
    "fed_FF.columns = fed_FF.iloc[4]\n",
    "fed_FF = fed_FF.iloc[5:]\n",
    "fed_FF = fed_FF.rename(columns={\"Time Period\" : \"date\", \"RIFSPFF_N.D\" : \"rate_fed_funds\"})"
   ]
  },
  {
   "cell_type": "code",
   "execution_count": null,
   "id": "9dd2a3ab",
   "metadata": {},
   "outputs": [],
   "source": [
    "fed_FF"
   ]
  },
  {
   "cell_type": "code",
   "execution_count": null,
   "id": "2837875a",
   "metadata": {},
   "outputs": [],
   "source": [
    "fed_FF.to_parquet(\"../../data/indicators/US/fed_funds_rate.parquet\", index=False)"
   ]
  },
  {
   "cell_type": "markdown",
   "id": "5faf9cef",
   "metadata": {},
   "source": [
    "# REAL GDP and GNP (FRED)"
   ]
  },
  {
   "cell_type": "markdown",
   "id": "b663cfb4",
   "metadata": {},
   "source": [
    "https://fred.stlouisfed.org/series/GDPC1\n",
    "https://fred.stlouisfed.org/series/GNPC96\n",
    "\n",
    "Data is at the start of quarter\n",
    "\n",
    "Assume 2 months after quarter end\n",
    "\n",
    "https://www.bea.gov/news/archive?field_related_product_target_id=451&created_1=29&title=\n"
   ]
  },
  {
   "cell_type": "code",
   "execution_count": null,
   "id": "bb218dca",
   "metadata": {},
   "outputs": [],
   "source": [
    "GDP = pd.read_csv('../../data/indicators/raw/REAL_GDP_B_FRED.csv', sep=',')"
   ]
  },
  {
   "cell_type": "code",
   "execution_count": null,
   "id": "10da4e59",
   "metadata": {},
   "outputs": [],
   "source": [
    "GDP.rename(columns={\"DATE\" : \"date\", \"GDPC1\" : \"real_gdp\"}, inplace=True)\n",
    "GDP[\"date\"] = pd.to_datetime(GDP[\"date\"])"
   ]
  },
  {
   "cell_type": "code",
   "execution_count": null,
   "id": "f367193c",
   "metadata": {},
   "outputs": [],
   "source": [
    "GDP.to_parquet(\"../../data/indicators/US/real_gdp.parquet\", index=False)"
   ]
  },
  {
   "cell_type": "code",
   "execution_count": null,
   "id": "c7116918",
   "metadata": {},
   "outputs": [],
   "source": [
    "GNP = pd.read_csv('../../data/indicators/raw/REAL_GNP_B_FRED.csv', sep=',')"
   ]
  },
  {
   "cell_type": "code",
   "execution_count": null,
   "id": "fbd2d25b",
   "metadata": {},
   "outputs": [],
   "source": [
    "GNP.rename(columns={\"DATE\" : \"date\", \"GNPC96\" : \"real_gnp\"}, inplace=True)\n",
    "GNP[\"date\"] = pd.to_datetime(GNP[\"date\"])"
   ]
  },
  {
   "cell_type": "code",
   "execution_count": null,
   "id": "818fcf33",
   "metadata": {},
   "outputs": [],
   "source": [
    "GNP.to_parquet(\"../../data/indicators/US/real_gnp.parquet\", index=False)"
   ]
  },
  {
   "cell_type": "markdown",
   "id": "3bb77637",
   "metadata": {},
   "source": [
    "# Money Supply (FED)"
   ]
  },
  {
   "cell_type": "markdown",
   "id": "cf09eabb",
   "metadata": {},
   "source": [
    "https://www.federalreserve.gov/datadownload/Download.aspx?rel=H6&series=c15a520be72b938dd7e44d42e744319a&filetype=csv&label=include&layout=seriescolumn&from=01/01/1959&to=04/30/2024\n",
    "\n",
    "Monthly, fourth tuesday every month. Add one month"
   ]
  },
  {
   "cell_type": "code",
   "execution_count": null,
   "id": "86a99c01",
   "metadata": {},
   "outputs": [],
   "source": [
    "M1M2 = pd.read_csv('../../data/indicators/raw/FRB_M1M2.csv', sep=',')"
   ]
  },
  {
   "cell_type": "code",
   "execution_count": null,
   "id": "961b56f0",
   "metadata": {},
   "outputs": [],
   "source": [
    "M1M2.columns = M1M2.iloc[4]\n",
    "M1M2 = M1M2.iloc[5:]\n",
    "M1M2 = M1M2.rename(columns={\"Time Period\" : \"date\", \"M1.M\" : \"M1\", \"M2.M\" : \"M2\"})\n",
    "M1M2[\"date\"] = pd.to_datetime(M1M2[\"date\"])\n",
    "M1M2[\"M1\"] = pd.to_numeric(M1M2[\"M1\"])\n",
    "M1M2[\"M2\"] = pd.to_numeric(M1M2[\"M2\"])"
   ]
  },
  {
   "cell_type": "code",
   "execution_count": null,
   "id": "ec1bc254",
   "metadata": {},
   "outputs": [],
   "source": [
    "M1M2.to_parquet(\"../../data/indicators/US/M1M2.parquet\", index=False)"
   ]
  },
  {
   "cell_type": "markdown",
   "id": "80b553ca",
   "metadata": {},
   "source": [
    "# Consumer Price index, Inflation (FRED)"
   ]
  },
  {
   "cell_type": "markdown",
   "id": "a98c27d4",
   "metadata": {},
   "source": [
    "https://fred.stlouisfed.org/series/CPIAUCSL\n",
    "\n",
    "https://www.bls.gov/bls/archived_sched.htm\n",
    "\n",
    "Around 1 month after month end"
   ]
  },
  {
   "cell_type": "code",
   "execution_count": null,
   "id": "e232c3f8",
   "metadata": {},
   "outputs": [],
   "source": [
    "CPI = pd.read_csv('../../data/indicators/raw/CPIAUCSL.csv', sep=',')"
   ]
  },
  {
   "cell_type": "code",
   "execution_count": null,
   "id": "faae5410",
   "metadata": {},
   "outputs": [],
   "source": [
    "CPI.rename(columns={\"DATE\" : \"date\", \"CPIAUCSL\" : \"cpi\"}, inplace=True)\n",
    "CPI[\"date\"] = pd.to_datetime(CPI[\"date\"])\n"
   ]
  },
  {
   "cell_type": "code",
   "execution_count": null,
   "id": "980641b8",
   "metadata": {},
   "outputs": [],
   "source": [
    "CPI.to_parquet(\"../../data/indicators/US/cpi.parquet\", index=False)"
   ]
  },
  {
   "cell_type": "markdown",
   "id": "f38f2054",
   "metadata": {},
   "source": [
    "# Consumption (FRED)"
   ]
  },
  {
   "cell_type": "markdown",
   "id": "1c7172db",
   "metadata": {},
   "source": [
    "https://www.bea.gov/news/archive?field_related_product_target_id=716&created_1=29&title=\n",
    "\n",
    "1 month + some days after month end"
   ]
  },
  {
   "cell_type": "code",
   "execution_count": null,
   "id": "5621b4d1",
   "metadata": {},
   "outputs": [],
   "source": [
    "PCE = pd.read_csv('../../data/indicators/raw/PCE.csv', sep=',')"
   ]
  },
  {
   "cell_type": "code",
   "execution_count": null,
   "id": "b9fe9f6a",
   "metadata": {},
   "outputs": [],
   "source": [
    "PCE.rename(columns={\"DATE\" : \"date\", \"PCE\" : \"pce\"}, inplace=True)\n",
    "PCE[\"date\"] = pd.to_datetime(PCE[\"date\"])"
   ]
  },
  {
   "cell_type": "code",
   "execution_count": null,
   "id": "5c0c9e2a",
   "metadata": {},
   "outputs": [],
   "source": [
    "PCE.to_parquet(\"../../data/indicators/US/pce.parquet\", index=False)"
   ]
  },
  {
   "cell_type": "markdown",
   "id": "2dfcb051",
   "metadata": {},
   "source": [
    "# Recessions NBER (FRED) https://fred.stlouisfed.org/series/USRECDM"
   ]
  },
  {
   "cell_type": "code",
   "execution_count": null,
   "id": "3cdbd019",
   "metadata": {},
   "outputs": [],
   "source": [
    "nber = pd.read_csv(\"../../data/indicators/raw/USRECDM.csv\")"
   ]
  },
  {
   "cell_type": "code",
   "execution_count": null,
   "id": "c99b034a",
   "metadata": {},
   "outputs": [],
   "source": [
    "nber.rename(columns={\"DATE\" : \"date\", \"USRECDM\" : \"recession\"}, inplace=True)"
   ]
  },
  {
   "cell_type": "code",
   "execution_count": null,
   "id": "c4befc1e",
   "metadata": {},
   "outputs": [],
   "source": [
    "nber.to_parquet(\"../../data/indicators/US/nber_recession.parquet\", index=False)"
   ]
  },
  {
   "cell_type": "code",
   "execution_count": null,
   "id": "5d437dc0",
   "metadata": {},
   "outputs": [],
   "source": [
    "nber_recessions_dates = nber[nber['recession'] == 1][\"date\"]\n",
    "nber_expansion_dates = nber[nber['recession'] == 0][\"date\"]\n",
    "pd.DataFrame(nber_recessions_dates).to_csv('../../time_periods/model_train_ready/nber_recession_dates.csv', index=False)\n",
    "pd.DataFrame(nber_expansion_dates).to_csv('../..//time_periods/model_train_ready/nber_expansion_dates.csv', index=False)"
   ]
  },
  {
   "cell_type": "markdown",
   "id": "8317ebcb",
   "metadata": {},
   "source": [
    "# VIX index (WRDS CBOE)"
   ]
  },
  {
   "cell_type": "code",
   "execution_count": null,
   "id": "a164daba",
   "metadata": {},
   "outputs": [],
   "source": [
    "vix_data = pd.read_csv('../../data/indices/VIX.zip', engine='pyarrow')\n",
    "vix_data.rename(columns={'Date': 'date', 'vix': 'vix_SP500_close', 'vxo' : 'vix_SP100_close', 'vxn': 'vix_NASDAQ_close', 'vxd': 'vix_DJIA_close'}, inplace=True)\n",
    "vix_data[\"date\"] = pd.to_datetime(vix_data['date'])"
   ]
  },
  {
   "cell_type": "code",
   "execution_count": null,
   "id": "40d263ff",
   "metadata": {},
   "outputs": [],
   "source": [
    "vix_data.drop_duplicates(subset=['date'], keep='first', inplace=True)"
   ]
  },
  {
   "cell_type": "code",
   "execution_count": null,
   "id": "f4804b64",
   "metadata": {},
   "outputs": [],
   "source": [
    "vix_data = vix_data[['date', 'vix_SP500_close', 'vix_SP100_close']]"
   ]
  },
  {
   "cell_type": "code",
   "execution_count": null,
   "id": "d32de21a",
   "metadata": {},
   "outputs": [],
   "source": [
    "vix_data.to_csv('../../data/indices/VIX_daily.csv', index=False)\n",
    "vix_data.to_parquet('../../data/indicators/US/VIX_daily.parquet', index=False)"
   ]
  }
 ],
 "metadata": {
  "kernelspec": {
   "display_name": "Python 3 (ipykernel)",
   "language": "python",
   "name": "python3"
  },
  "language_info": {
   "codemirror_mode": {
    "name": "ipython",
    "version": 3
   },
   "file_extension": ".py",
   "mimetype": "text/x-python",
   "name": "python",
   "nbconvert_exporter": "python",
   "pygments_lexer": "ipython3",
   "version": "3.11.5"
  }
 },
 "nbformat": 4,
 "nbformat_minor": 5
}
