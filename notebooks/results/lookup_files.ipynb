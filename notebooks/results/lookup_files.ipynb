{
 "cells": [
  {
   "cell_type": "code",
   "execution_count": null,
   "id": "39e188ad",
   "metadata": {},
   "outputs": [],
   "source": [
    "import pandas as pd\n",
    "import numpy as np"
   ]
  },
  {
   "cell_type": "code",
   "execution_count": null,
   "id": "7e9a34d4",
   "metadata": {},
   "outputs": [],
   "source": [
    "years = list(range(1967,2024))"
   ]
  },
  {
   "cell_type": "code",
   "execution_count": null,
   "id": "d377c874",
   "metadata": {},
   "outputs": [],
   "source": [
    "for i, year in enumerate(years):\n",
    "    print(year)\n",
    "    current_df = pd.read_parquet(f\"../../data/processed/csrp/us_data_{year}_annual_fund_processed_n_pct.parquet\", \n",
    "        columns = [\"date\", \"gvkey\", \"company_name\", \"exchange_code\", \"gsector\", \n",
    "                \"ggroup\", \"gind\", \"gsubind\", \"market_cap_usd\", \"trr_5\", \"volume_usd_5\", \"volatility_5\", \"price_close_usd\"], engine=\"pyarrow\")\n",
    "    if i == 0:\n",
    "        current_df[\"currency\"] = \"USD\"\n",
    "        current_df[\"country_hq\"] = np.nan\n",
    "        us_lookup_df = current_df\n",
    "        continue\n",
    "    \n",
    "    us_lookup_df = pd.concat([us_lookup_df, current_df])"
   ]
  },
  {
   "cell_type": "code",
   "execution_count": null,
   "id": "5627a982",
   "metadata": {},
   "outputs": [],
   "source": [
    "us_lookup_df.head()"
   ]
  },
  {
   "cell_type": "code",
   "execution_count": null,
   "id": "bb2a8c40",
   "metadata": {},
   "outputs": [],
   "source": [
    "us_lookup_df.to_parquet(\"../../data/lookup/us_lookup.parquet\", index=False)"
   ]
  },
  {
   "cell_type": "code",
   "execution_count": null,
   "id": "b256011c",
   "metadata": {},
   "outputs": [],
   "source": [
    "years = list(range(1993,2024))"
   ]
  },
  {
   "cell_type": "code",
   "execution_count": null,
   "id": "27c52306",
   "metadata": {},
   "outputs": [],
   "source": [
    "for i, year in enumerate(years):\n",
    "    print(year)\n",
    "    current_df = pd.read_parquet(f\"../../data/processed/europe/europe_data_{year}_annual_fund_processed_n_pct.parquet\", \n",
    "        columns = [\"date\", \"gvkey\", \"company_name\", \"gsector\", \"currency\", \"country_hq\", \"exchange_code\",\n",
    "                \"ggroup\", \"gind\", \"gsubind\", \"market_cap_usd\", \"trr_5\", \"volume_usd_5\", \"volatility_5\"], engine=\"pyarrow\")\n",
    "    if i == 0:\n",
    "        eu_lookup_df = current_df\n",
    "        continue\n",
    "    \n",
    "    eu_lookup_df = pd.concat([eu_lookup_df, current_df])\n"
   ]
  },
  {
   "cell_type": "code",
   "execution_count": null,
   "id": "cef6c8a8",
   "metadata": {},
   "outputs": [],
   "source": [
    "eu_lookup_df"
   ]
  },
  {
   "cell_type": "code",
   "execution_count": null,
   "id": "89ae647d",
   "metadata": {},
   "outputs": [],
   "source": [
    "eu_lookup_df.to_parquet(\"../../data/lookup/eu_lookup.parquet\", index=False)"
   ]
  },
  {
   "cell_type": "code",
   "execution_count": null,
   "id": "04e59817",
   "metadata": {},
   "outputs": [],
   "source": [
    "for i, year in enumerate(years):\n",
    "    print(year)\n",
    "    current_df = pd.read_parquet(f\"../../data/processed/japan/japan_data_{year}_annual_fund_processed_n_pct.parquet\", \n",
    "        columns = [\"date\", \"gvkey\", \"company_name\", \"gsector\", \"currency\", \"country_hq\", \"exchange_code\",\n",
    "                \"ggroup\", \"gind\", \"gsubind\", \"market_cap_usd\", \"trr_5\", \"volume_usd_5\", \"volatility_5\"], engine=\"pyarrow\")\n",
    "    if i == 0:\n",
    "        jp_lookup_df = current_df\n",
    "        continue\n",
    "    \n",
    "    jp_lookup_df = pd.concat([jp_lookup_df, current_df])"
   ]
  },
  {
   "cell_type": "code",
   "execution_count": null,
   "id": "3cb8e5b5",
   "metadata": {},
   "outputs": [],
   "source": [
    "jp_lookup_df.to_parquet(\"../../data/lookup/jp_lookup.parquet\", index=False)"
   ]
  }
 ],
 "metadata": {
  "kernelspec": {
   "display_name": "Python 3 (ipykernel)",
   "language": "python",
   "name": "python3"
  },
  "language_info": {
   "codemirror_mode": {
    "name": "ipython",
    "version": 3
   },
   "file_extension": ".py",
   "mimetype": "text/x-python",
   "name": "python",
   "nbconvert_exporter": "python",
   "pygments_lexer": "ipython3",
   "version": "3.9.13"
  }
 },
 "nbformat": 4,
 "nbformat_minor": 5
}
